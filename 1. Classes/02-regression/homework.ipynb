{
 "cells": [
  {
   "cell_type": "markdown",
   "metadata": {},
   "source": [
    "# Homework 2: California Housing Prices"
   ]
  },
  {
   "cell_type": "markdown",
   "metadata": {},
   "source": [
    "## Setup"
   ]
  },
  {
   "cell_type": "code",
   "execution_count": 23,
   "metadata": {},
   "outputs": [
    {
     "name": "stderr",
     "output_type": "stream",
     "text": [
      "--2023-09-26 15:49:57--  https://raw.githubusercontent.com/alexeygrigorev/datasets/master/housing.csv\n",
      "Resolving raw.githubusercontent.com (raw.githubusercontent.com)... 2606:50c0:8001::154, 2606:50c0:8002::154, 2606:50c0:8003::154, ...\n",
      "Connecting to raw.githubusercontent.com (raw.githubusercontent.com)|2606:50c0:8001::154|:443... connected.\n",
      "HTTP request sent, awaiting response... 200 OK\n",
      "Length: 1423529 (1.4M) [text/plain]\n",
      "Saving to: 'housing.csv.3'\n",
      "\n",
      "     0K .......... .......... .......... .......... ..........  3% 14.7M 0s\n",
      "    50K .......... .......... .......... .......... ..........  7% 10.5M 0s\n",
      "   100K .......... .......... .......... .......... .......... 10% 17.9M 0s\n",
      "   150K .......... .......... .......... .......... .......... 14% 3.38M 0s\n",
      "   200K .......... .......... .......... .......... .......... 17% 8.41M 0s\n",
      "   250K .......... .......... .......... .......... .......... 21% 73.8M 0s\n",
      "   300K .......... .......... .......... .......... .......... 25% 22.4M 0s\n",
      "   350K .......... .......... .......... .......... .......... 28% 19.7M 0s\n",
      "   400K .......... .......... .......... .......... .......... 32% 14.3M 0s\n",
      "   450K .......... .......... .......... .......... .......... 35% 46.9M 0s\n",
      "   500K .......... .......... .......... .......... .......... 39% 88.8M 0s\n",
      "   550K .......... .......... .......... .......... .......... 43% 73.2M 0s\n",
      "   600K .......... .......... .......... .......... .......... 46% 85.4M 0s\n",
      "   650K .......... .......... .......... .......... .......... 50% 19.3M 0s\n",
      "   700K .......... .......... .......... .......... .......... 53% 14.3M 0s\n",
      "   750K .......... .......... .......... .......... .......... 57% 59.4M 0s\n",
      "   800K .......... .......... .......... .......... .......... 61% 48.2M 0s\n",
      "   850K .......... .......... .......... .......... .......... 64% 7.28M 0s\n",
      "   900K .......... .......... .......... .......... .......... 68% 26.4M 0s\n",
      "   950K .......... .......... .......... .......... .......... 71%  159M 0s\n",
      "  1000K .......... .......... .......... .......... .......... 75%  108M 0s\n",
      "  1050K .......... .......... .......... .......... .......... 79% 42.6M 0s\n",
      "  1100K .......... .......... .......... .......... .......... 82%  169M 0s\n",
      "  1150K .......... .......... .......... .......... .......... 86%  165M 0s\n",
      "  1200K .......... .......... .......... .......... .......... 89% 83.1M 0s\n",
      "  1250K .......... .......... .......... .......... .......... 93% 7.64M 0s\n",
      "  1300K .......... .......... .......... .......... .......... 97% 11.3M 0s\n",
      "  1350K .......... .......... .......... ..........           100% 96.9M=0.07s\n",
      "\n",
      "2023-09-26 15:49:57 (18.6 MB/s) - 'housing.csv.3' saved [1423529/1423529]\n",
      "\n"
     ]
    }
   ],
   "source": [
    "# Import libraries\n",
    "import numpy as np\n",
    "import pandas as pd\n",
    "import matplotlib.pyplot as plt\n",
    "import seaborn as sns\n",
    "\n",
    "# Download and load dataset\n",
    "!wget https://raw.githubusercontent.com/alexeygrigorev/datasets/master/housing.csv\n",
    "df = pd.read_csv('housing.csv')"
   ]
  },
  {
   "cell_type": "code",
   "execution_count": 24,
   "metadata": {},
   "outputs": [
    {
     "data": {
      "text/html": [
       "<div>\n",
       "<style scoped>\n",
       "    .dataframe tbody tr th:only-of-type {\n",
       "        vertical-align: middle;\n",
       "    }\n",
       "\n",
       "    .dataframe tbody tr th {\n",
       "        vertical-align: top;\n",
       "    }\n",
       "\n",
       "    .dataframe thead th {\n",
       "        text-align: right;\n",
       "    }\n",
       "</style>\n",
       "<table border=\"1\" class=\"dataframe\">\n",
       "  <thead>\n",
       "    <tr style=\"text-align: right;\">\n",
       "      <th></th>\n",
       "      <th>longitude</th>\n",
       "      <th>latitude</th>\n",
       "      <th>housing_median_age</th>\n",
       "      <th>total_rooms</th>\n",
       "      <th>total_bedrooms</th>\n",
       "      <th>population</th>\n",
       "      <th>households</th>\n",
       "      <th>median_income</th>\n",
       "      <th>median_house_value</th>\n",
       "      <th>ocean_proximity</th>\n",
       "    </tr>\n",
       "  </thead>\n",
       "  <tbody>\n",
       "    <tr>\n",
       "      <th>0</th>\n",
       "      <td>-122.23</td>\n",
       "      <td>37.88</td>\n",
       "      <td>41.0</td>\n",
       "      <td>880.0</td>\n",
       "      <td>129.0</td>\n",
       "      <td>322.0</td>\n",
       "      <td>126.0</td>\n",
       "      <td>8.3252</td>\n",
       "      <td>452600.0</td>\n",
       "      <td>NEAR BAY</td>\n",
       "    </tr>\n",
       "    <tr>\n",
       "      <th>1</th>\n",
       "      <td>-122.22</td>\n",
       "      <td>37.86</td>\n",
       "      <td>21.0</td>\n",
       "      <td>7099.0</td>\n",
       "      <td>1106.0</td>\n",
       "      <td>2401.0</td>\n",
       "      <td>1138.0</td>\n",
       "      <td>8.3014</td>\n",
       "      <td>358500.0</td>\n",
       "      <td>NEAR BAY</td>\n",
       "    </tr>\n",
       "    <tr>\n",
       "      <th>2</th>\n",
       "      <td>-122.24</td>\n",
       "      <td>37.85</td>\n",
       "      <td>52.0</td>\n",
       "      <td>1467.0</td>\n",
       "      <td>190.0</td>\n",
       "      <td>496.0</td>\n",
       "      <td>177.0</td>\n",
       "      <td>7.2574</td>\n",
       "      <td>352100.0</td>\n",
       "      <td>NEAR BAY</td>\n",
       "    </tr>\n",
       "    <tr>\n",
       "      <th>3</th>\n",
       "      <td>-122.25</td>\n",
       "      <td>37.85</td>\n",
       "      <td>52.0</td>\n",
       "      <td>1274.0</td>\n",
       "      <td>235.0</td>\n",
       "      <td>558.0</td>\n",
       "      <td>219.0</td>\n",
       "      <td>5.6431</td>\n",
       "      <td>341300.0</td>\n",
       "      <td>NEAR BAY</td>\n",
       "    </tr>\n",
       "    <tr>\n",
       "      <th>4</th>\n",
       "      <td>-122.25</td>\n",
       "      <td>37.85</td>\n",
       "      <td>52.0</td>\n",
       "      <td>1627.0</td>\n",
       "      <td>280.0</td>\n",
       "      <td>565.0</td>\n",
       "      <td>259.0</td>\n",
       "      <td>3.8462</td>\n",
       "      <td>342200.0</td>\n",
       "      <td>NEAR BAY</td>\n",
       "    </tr>\n",
       "  </tbody>\n",
       "</table>\n",
       "</div>"
      ],
      "text/plain": [
       "   longitude  latitude  housing_median_age  total_rooms  total_bedrooms  \\\n",
       "0    -122.23     37.88                41.0        880.0           129.0   \n",
       "1    -122.22     37.86                21.0       7099.0          1106.0   \n",
       "2    -122.24     37.85                52.0       1467.0           190.0   \n",
       "3    -122.25     37.85                52.0       1274.0           235.0   \n",
       "4    -122.25     37.85                52.0       1627.0           280.0   \n",
       "\n",
       "   population  households  median_income  median_house_value ocean_proximity  \n",
       "0       322.0       126.0         8.3252            452600.0        NEAR BAY  \n",
       "1      2401.0      1138.0         8.3014            358500.0        NEAR BAY  \n",
       "2       496.0       177.0         7.2574            352100.0        NEAR BAY  \n",
       "3       558.0       219.0         5.6431            341300.0        NEAR BAY  \n",
       "4       565.0       259.0         3.8462            342200.0        NEAR BAY  "
      ]
     },
     "execution_count": 24,
     "metadata": {},
     "output_type": "execute_result"
    }
   ],
   "source": [
    "# Check data\n",
    "df.head()"
   ]
  },
  {
   "cell_type": "code",
   "execution_count": 25,
   "metadata": {},
   "outputs": [
    {
     "data": {
      "text/plain": [
       "count     20640.000000\n",
       "mean     206855.816909\n",
       "std      115395.615874\n",
       "min       14999.000000\n",
       "25%      119600.000000\n",
       "50%      179700.000000\n",
       "75%      264725.000000\n",
       "max      500001.000000\n",
       "Name: median_house_value, dtype: float64"
      ]
     },
     "execution_count": 25,
     "metadata": {},
     "output_type": "execute_result"
    }
   ],
   "source": [
    "df['median_house_value'].describe()"
   ]
  },
  {
   "cell_type": "code",
   "execution_count": 26,
   "metadata": {},
   "outputs": [
    {
     "data": {
      "image/png": "[encoded data removed]",
      "text/plain": [
       "<Figure size 1000x600 with 1 Axes>"
      ]
     },
     "metadata": {},
     "output_type": "display_data"
    }
   ],
   "source": [
    "# Plot histogram of median house value\n",
    "plt.figure(figsize=(10, 6))\n",
    "sns.histplot(df['median_house_value'], bins=50)\n",
    "plt.title('Median House Value')\n",
    "plt.show()\n",
    "# It seems that the median house value is capped at 500,000\n",
    "# It does not have a long tail"
   ]
  },
  {
   "cell_type": "code",
   "execution_count": 27,
   "metadata": {},
   "outputs": [],
   "source": [
    "# Preparing the dataset\n",
    "# Keep only records with ocean_proximity is either '<1H OCEAN' or 'INLAND'\n",
    "df = df[df['ocean_proximity'].isin(['<1H OCEAN', 'INLAND'])]\n",
    "# Drop the ocean_proximity column\n",
    "df = df.drop('ocean_proximity', axis=1)"
   ]
  },
  {
   "cell_type": "markdown",
   "metadata": {},
   "source": [
    "## Question 1\n",
    "\n",
    "There's one feature with missing values. What is it?\n",
    "\n",
    "- total_rooms\n",
    "- total_bedrooms\n",
    "- population\n",
    "- households\n",
    "\n",
    "**ANSWER: total_bedrooms**"
   ]
  },
  {
   "cell_type": "code",
   "execution_count": 28,
   "metadata": {},
   "outputs": [
    {
     "data": {
      "text/plain": [
       "longitude               0\n",
       "latitude                0\n",
       "housing_median_age      0\n",
       "total_rooms             0\n",
       "total_bedrooms        157\n",
       "population              0\n",
       "households              0\n",
       "median_income           0\n",
       "median_house_value      0\n",
       "dtype: int64"
      ]
     },
     "execution_count": 28,
     "metadata": {},
     "output_type": "execute_result"
    }
   ],
   "source": [
    "df.isnull().sum()"
   ]
  },
  {
   "cell_type": "markdown",
   "metadata": {},
   "source": [
    "## Question 2\n",
    "\n",
    "What's the median (50% percentile) for variable 'population'?\n",
    "\n",
    "- 995\n",
    "- 1095\n",
    "- 1195\n",
    "- 1295\n",
    "\n",
    "**ANSWER: 1195**"
   ]
  },
  {
   "cell_type": "code",
   "execution_count": 29,
   "metadata": {},
   "outputs": [
    {
     "data": {
      "text/plain": [
       "count    15687.000000\n",
       "mean      1466.317205\n",
       "std       1180.389908\n",
       "min          3.000000\n",
       "25%        802.000000\n",
       "50%       1195.000000\n",
       "75%       1777.000000\n",
       "max      35682.000000\n",
       "Name: population, dtype: float64"
      ]
     },
     "execution_count": 29,
     "metadata": {},
     "output_type": "execute_result"
    }
   ],
   "source": [
    "df.population.describe()"
   ]
  },
  {
   "cell_type": "code",
   "execution_count": 30,
   "metadata": {},
   "outputs": [],
   "source": [
    "# Apply log transformation and drop target from dataset\n",
    "y = np.log1p(df['median_house_value'].values)\n",
    "df = df.drop('median_house_value', axis=1)\n",
    "\n",
    "# Split dataset into train, validation and test sets (60%, 20%, 20%)\n",
    "np.random.seed(42)\n",
    "n = len(df)\n",
    "n_val = int(n * 0.2)\n",
    "n_test = int(n * 0.2)\n",
    "n_train = n - n_val - n_test\n",
    "# Shuffle the dataset\n",
    "idx = np.arange(n)\n",
    "np.random.shuffle(idx)\n",
    "# Split the dataset\n",
    "df_train = df.iloc[idx[:n_train]].copy().reset_index(drop=True)\n",
    "df_val = df.iloc[idx[n_train:n_train+n_val]].copy().reset_index(drop=True)\n",
    "df_test = df.iloc[idx[n_train+n_val:]].copy().reset_index(drop=True)\n",
    "\n",
    "# Get target for each set\n",
    "y_train = y[idx[:n_train]]\n",
    "y_val = y[idx[n_train:n_train+n_val]]\n",
    "y_test = y[idx[n_train+n_val:]]"
   ]
  },
  {
   "cell_type": "markdown",
   "metadata": {},
   "source": [
    "## Question 3\n",
    "\n",
    "- We need to deal with missing values for the column from Q1.\n",
    "- We have two options: fill it with 0 or with the mean of this variable.\n",
    "- Try both options. For each, train a linear regression model without - regularization using the code from the lessons.\n",
    "- For computing the mean, use the training only!\n",
    "- Use the validation dataset to evaluate the models and compare the RMSE of each option.\n",
    "- Round the RMSE scores to 2 decimal digits using round(score, 2)\n",
    "\n",
    "Which option gives better RMSE?\n",
    "\n",
    "- With 0\n",
    "- With mean\n",
    "- Both are equally good\n",
    "\n",
    "\n",
    "**ANSWER: EQUALLY GOOD**"
   ]
  },
  {
   "cell_type": "code",
   "execution_count": 32,
   "metadata": {},
   "outputs": [],
   "source": [
    "# Define functions to train and predict\n",
    "def train_linear_regression(X, y):\n",
    "    ones = np.ones(X.shape[0])\n",
    "    X = np.column_stack([ones, X])\n",
    "\n",
    "    XTX = X.T.dot(X)\n",
    "    XTX_inv = np.linalg.inv(XTX)\n",
    "    w = XTX_inv.dot(X.T).dot(y)\n",
    "    \n",
    "    return w[0], w[1:]\n",
    "\n",
    "def prepare_X(df, null_treatment = 'zero'):\n",
    "    df_num = df.copy()\n",
    "    if null_treatment == 'zero':\n",
    "        df_num = df_num.fillna(0)\n",
    "    elif null_treatment == 'mean':\n",
    "        df_num = df_num.fillna(df_num.mean())\n",
    "    else:\n",
    "        raise ValueError('null_treatment can only be zero or mean')\n",
    "    \n",
    "    return df_num.values\n",
    "\n",
    "def rmse(y, y_pred):\n",
    "    error = y_pred - y\n",
    "    mse = (error ** 2).mean()\n",
    "    return np.sqrt(mse)"
   ]
  },
  {
   "cell_type": "code",
   "execution_count": 34,
   "metadata": {},
   "outputs": [
    {
     "name": "stdout",
     "output_type": "stream",
     "text": [
      "train - zero: 0.34\n",
      "validation - zero: 0.34\n",
      "train - mean: 0.34\n",
      "validation - mean: 0.34\n"
     ]
    }
   ],
   "source": [
    "# Zero imputation\n",
    "X_train = prepare_X(df_train)\n",
    "w_0, w = train_linear_regression(X_train, y_train)\n",
    "\n",
    "y_pred = w_0 + X_train.dot(w)\n",
    "print('train - zero:', round(rmse(y_train, y_pred), 2))\n",
    "\n",
    "X_val = prepare_X(df_val)\n",
    "y_pred = w_0 + X_val.dot(w)\n",
    "print('validation - zero:', round(rmse(y_val, y_pred), 2))\n",
    "\n",
    "# Mean imputation\n",
    "X_train = prepare_X(df_train, 'mean')\n",
    "w_0, w = train_linear_regression(X_train, y_train)\n",
    "\n",
    "y_pred = w_0 + X_train.dot(w)\n",
    "print('train - mean:', round(rmse(y_train, y_pred), 2))\n",
    "\n",
    "X_val = prepare_X(df_val)\n",
    "y_pred = w_0 + X_val.dot(w)\n",
    "print('validation - mean:', round(rmse(y_val, y_pred), 2))"
   ]
  },
  {
   "cell_type": "markdown",
   "metadata": {},
   "source": [
    "## Question 4\n",
    "\n",
    "- Now let's train a regularized linear regression.\n",
    "- For this question, fill the NAs with 0.\n",
    "- Try different values of r from this list: [0, 0.000001, 0.0001, 0.001, 0.01, 0.1, 1, 5, 10].\n",
    "- Use RMSE to evaluate the model on the validation dataset.\n",
    "- Round the RMSE scores to 2 decimal digits.\n",
    "\n",
    "Which r gives the best RMSE?\n",
    "\n",
    "- 0\n",
    "- 0.000001\n",
    "- 0.001\n",
    "- 0.0001\n",
    "\n",
    "**ANSWER: 0**"
   ]
  },
  {
   "cell_type": "code",
   "execution_count": 35,
   "metadata": {},
   "outputs": [],
   "source": [
    "def train_linear_regression_reg(X, y, r=0.0):\n",
    "    ones = np.ones(X.shape[0])\n",
    "    X = np.column_stack([ones, X])\n",
    "\n",
    "    XTX = X.T.dot(X)\n",
    "    reg = r * np.eye(XTX.shape[0])\n",
    "    XTX = XTX + reg\n",
    "\n",
    "    XTX_inv = np.linalg.inv(XTX)\n",
    "    w = XTX_inv.dot(X.T).dot(y)\n",
    "    \n",
    "    return w[0], w[1:]"
   ]
  },
  {
   "cell_type": "code",
   "execution_count": 36,
   "metadata": {},
   "outputs": [
    {
     "name": "stdout",
     "output_type": "stream",
     "text": [
      "     0 0.34\n",
      " 1e-06 0.34\n",
      "0.0001 0.34\n",
      " 0.001 0.34\n",
      "  0.01 0.34\n",
      "   0.1 0.34\n",
      "     1 0.34\n",
      "     5 0.35\n",
      "    10 0.35\n"
     ]
    }
   ],
   "source": [
    "X_train = prepare_X(df_train)\n",
    "X_val = prepare_X(df_val)\n",
    "\n",
    "for r in [0, 0.000001, 0.0001, 0.001, 0.01, 0.1, 1, 5, 10]:\n",
    "    w_0, w = train_linear_regression_reg(X_train, y_train, r=r)\n",
    "    y_pred = w_0 + X_val.dot(w)\n",
    "    print('%6s' %r, round(rmse(y_val, y_pred), 2))"
   ]
  },
  {
   "cell_type": "markdown",
   "metadata": {},
   "source": [
    "## Question 5\n",
    "\n",
    "- We used seed 42 for splitting the data. Let's find out how selecting the seed influences our score.\n",
    "- Try different seed values: [0, 1, 2, 3, 4, 5, 6, 7, 8, 9].\n",
    "- For each seed, do the train/validation/test split with 60%/20%/20% distribution.\n",
    "- Fill the missing values with 0 and train a model without regularization.\n",
    "- For each seed, evaluate the model on the validation dataset and collect the RMSE scores.\n",
    "- What's the standard deviation of all the scores? To compute the standard deviation, use np.std.\n",
    "- Round the result to 3 decimal digits (round(std, 3))\n",
    "\n",
    "What's the value of std?\n",
    "\n",
    "- 0.5\n",
    "- 0.05\n",
    "- 0.005\n",
    "- 0.0005\n",
    "\n",
    "**ANSWER: 0.005**"
   ]
  },
  {
   "cell_type": "code",
   "execution_count": 50,
   "metadata": {},
   "outputs": [],
   "source": [
    "def get_rmse_vector(y, X, seed,\n",
    "                    split_vector = [.6, .2, .2],\n",
    "                    null_treatment = 'zero',\n",
    "                    reg = False,\n",
    "                    r = 0.0):\n",
    "    # Split dataset into train, validation and test sets (60%, 20%, 20%)\n",
    "    np.random.seed(seed)\n",
    "    n = len(y)\n",
    "    n_val = int(n * split_vector[1])\n",
    "    n_test = int(n * split_vector[2])\n",
    "    n_train = n - n_val - n_test\n",
    "    \n",
    "    # Shuffle the dataset\n",
    "    idx = np.arange(n)\n",
    "    np.random.shuffle(idx)\n",
    "    \n",
    "    # Split the dataset\n",
    "    X_train = X.iloc[idx[:n_train]].copy().reset_index(drop=True)\n",
    "    X_val = X.iloc[idx[n_train:n_train+n_val]].copy().reset_index(drop=True)\n",
    "    X_test = X.iloc[idx[n_train+n_val:]].copy().reset_index(drop=True)\n",
    "\n",
    "    # Get target for each set\n",
    "    y_train = y[idx[:n_train]]\n",
    "    y_val = y[idx[n_train:n_train+n_val]]\n",
    "    y_test = y[idx[n_train+n_val:]]\n",
    "    \n",
    "    # Get weights\n",
    "    X_train = prepare_X(X_train, null_treatment)\n",
    "    if reg:\n",
    "        w_0, w = train_linear_regression_reg(X_train, y_train, r=r)\n",
    "    else:\n",
    "        w_0, w = train_linear_regression(X_train, y_train)\n",
    "    \n",
    "    # Get predictions\n",
    "    # Training\n",
    "    y_pred = w_0 + X_train.dot(w)\n",
    "    rmse_train = rmse(y_train, y_pred)\n",
    "    # Validation\n",
    "    X_val = prepare_X(X_val, null_treatment)\n",
    "    y_pred = w_0 + X_val.dot(w)\n",
    "    rmse_val = rmse(y_val, y_pred)\n",
    "    \n",
    "    # Get test rmse with combined train and validation sets\n",
    "    X_full = np.vstack((X_train, X_val))\n",
    "    y_full = np.concatenate([y_train, y_val])\n",
    "    # Get weights\n",
    "    if reg:\n",
    "        w_0, w = train_linear_regression_reg(X_full, y_full, r=r)\n",
    "    else:\n",
    "        w_0, w = train_linear_regression(X_full, y_full)\n",
    "    # Get predictions and rmse\n",
    "    y_pred = w_0 + X_full.dot(w)    \n",
    "    rmse_test = rmse(y_full, y_pred)\n",
    "\n",
    "    return rmse_train, rmse_val, rmse_test"
   ]
  },
  {
   "cell_type": "code",
   "execution_count": 51,
   "metadata": {},
   "outputs": [],
   "source": [
    "# Try different seeds\n",
    "rmse_vals = []\n",
    "for seed in np.arange(10):\n",
    "    _, rmse_val, _ = get_rmse_vector(y, df, seed)\n",
    "    rmse_vals.append(rmse_val)"
   ]
  },
  {
   "cell_type": "code",
   "execution_count": 52,
   "metadata": {},
   "outputs": [
    {
     "data": {
      "text/plain": [
       "0.005"
      ]
     },
     "execution_count": 52,
     "metadata": {},
     "output_type": "execute_result"
    }
   ],
   "source": [
    "round(np.std(rmse_vals), 3)"
   ]
  },
  {
   "cell_type": "markdown",
   "metadata": {},
   "source": [
    "## Question 6\n",
    "\n",
    "- Split the dataset like previously, use seed 9.\n",
    "- Combine train and validation datasets.\n",
    "- Fill the missing values with 0 and train a model with r=0.001.\n",
    "\n",
    "What's the RMSE on the test dataset?\n",
    "\n",
    "- 0.13\n",
    "- 0.23\n",
    "- 0.33\n",
    "- 0.43\n",
    "\n",
    "**ANSWER: 0.33**"
   ]
  },
  {
   "cell_type": "code",
   "execution_count": 57,
   "metadata": {},
   "outputs": [
    {
     "data": {
      "text/plain": [
       "0.33931756759095905"
      ]
     },
     "execution_count": 57,
     "metadata": {},
     "output_type": "execute_result"
    }
   ],
   "source": [
    "_, _, rmse_test = get_rmse_vector(y, df, 9, reg=True, r=0.001)\n",
    "rmse_test"
   ]
  }
 ],
 "metadata": {
  "kernelspec": {
   "display_name": "ml-zoomcamp",
   "language": "python",
   "name": "python3"
  },
  "language_info": {
   "codemirror_mode": {
    "name": "ipython",
    "version": 3
   },
   "file_extension": ".py",
   "mimetype": "text/x-python",
   "name": "python",
   "nbconvert_exporter": "python",
   "pygments_lexer": "ipython3",
   "version": "3.9.18"
  },
  "orig_nbformat": 4
 },
 "nbformat": 4,
 "nbformat_minor": 2
}
