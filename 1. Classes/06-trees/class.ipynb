{
 "cells": [
  {
   "cell_type": "code",
   "execution_count": 154,
   "metadata": {},
   "outputs": [],
   "source": [
    "import pandas as pd\n",
    "import numpy as np\n",
    "\n",
    "import seaborn as sns\n",
    "import matplotlib.pyplot as plt\n",
    "%matplotlib inline\n",
    "\n",
    "from sklearn.model_selection import train_test_split\n",
    "from sklearn.tree import DecisionTreeClassifier\n",
    "from sklearn.feature_extraction import DictVectorizer\n",
    "from sklearn.metrics import roc_auc_score\n",
    "from sklearn.tree import export_text\n",
    "from sklearn.ensemble import RandomForestClassifier\n",
    "\n",
    "import xgboost as xgb\n",
    "import io\n",
    "import sys\n",
    "\n",
    "from IPython.display import display"
   ]
  },
  {
   "cell_type": "markdown",
   "metadata": {},
   "source": [
    "## Data cleaning and preparation"
   ]
  },
  {
   "cell_type": "code",
   "execution_count": 2,
   "metadata": {},
   "outputs": [
    {
     "name": "stderr",
     "output_type": "stream",
     "text": [
      "--2023-10-23 15:49:26--  https://github.com/gastonstat/CreditScoring/raw/master/CreditScoring.csv\n",
      "Resolving github.com (github.com)... 140.82.114.4\n",
      "Connecting to github.com (github.com)|140.82.114.4|:443... connected.\n",
      "HTTP request sent, awaiting response... 302 Found\n",
      "Location: https://raw.githubusercontent.com/gastonstat/CreditScoring/master/CreditScoring.csv [following]\n",
      "--2023-10-23 15:49:26--  https://raw.githubusercontent.com/gastonstat/CreditScoring/master/CreditScoring.csv\n",
      "Resolving raw.githubusercontent.com (raw.githubusercontent.com)... 2606:50c0:8000::154, 2606:50c0:8001::154, 2606:50c0:8002::154, ...\n",
      "Connecting to raw.githubusercontent.com (raw.githubusercontent.com)|2606:50c0:8000::154|:443... connected.\n",
      "HTTP request sent, awaiting response... 200 OK\n",
      "Length: 182489 (178K) [text/plain]\n",
      "Saving to: 'CreditScoring.csv'\n",
      "\n",
      "     0K .......... .......... .......... .......... .......... 28% 1.16M 0s\n",
      "    50K .......... .......... .......... .......... .......... 56% 3.53M 0s\n",
      "   100K .......... .......... .......... .......... .......... 84% 3.19M 0s\n",
      "   150K .......... .......... ........                        100% 8.41M=0.07s\n",
      "\n",
      "2023-10-23 15:49:26 (2.34 MB/s) - 'CreditScoring.csv' saved [182489/182489]\n",
      "\n"
     ]
    }
   ],
   "source": [
    "!wget https://github.com/gastonstat/CreditScoring/raw/master/CreditScoring.csv"
   ]
  },
  {
   "cell_type": "code",
   "execution_count": 3,
   "metadata": {},
   "outputs": [
    {
     "data": {
      "text/html": [
       "<div>\n",
       "<style scoped>\n",
       "    .dataframe tbody tr th:only-of-type {\n",
       "        vertical-align: middle;\n",
       "    }\n",
       "\n",
       "    .dataframe tbody tr th {\n",
       "        vertical-align: top;\n",
       "    }\n",
       "\n",
       "    .dataframe thead th {\n",
       "        text-align: right;\n",
       "    }\n",
       "</style>\n",
       "<table border=\"1\" class=\"dataframe\">\n",
       "  <thead>\n",
       "    <tr style=\"text-align: right;\">\n",
       "      <th></th>\n",
       "      <th>Status</th>\n",
       "      <th>Seniority</th>\n",
       "      <th>Home</th>\n",
       "      <th>Time</th>\n",
       "      <th>Age</th>\n",
       "      <th>Marital</th>\n",
       "      <th>Records</th>\n",
       "      <th>Job</th>\n",
       "      <th>Expenses</th>\n",
       "      <th>Income</th>\n",
       "      <th>Assets</th>\n",
       "      <th>Debt</th>\n",
       "      <th>Amount</th>\n",
       "      <th>Price</th>\n",
       "    </tr>\n",
       "  </thead>\n",
       "  <tbody>\n",
       "    <tr>\n",
       "      <th>0</th>\n",
       "      <td>1</td>\n",
       "      <td>9</td>\n",
       "      <td>1</td>\n",
       "      <td>60</td>\n",
       "      <td>30</td>\n",
       "      <td>2</td>\n",
       "      <td>1</td>\n",
       "      <td>3</td>\n",
       "      <td>73</td>\n",
       "      <td>129</td>\n",
       "      <td>0</td>\n",
       "      <td>0</td>\n",
       "      <td>800</td>\n",
       "      <td>846</td>\n",
       "    </tr>\n",
       "    <tr>\n",
       "      <th>1</th>\n",
       "      <td>1</td>\n",
       "      <td>17</td>\n",
       "      <td>1</td>\n",
       "      <td>60</td>\n",
       "      <td>58</td>\n",
       "      <td>3</td>\n",
       "      <td>1</td>\n",
       "      <td>1</td>\n",
       "      <td>48</td>\n",
       "      <td>131</td>\n",
       "      <td>0</td>\n",
       "      <td>0</td>\n",
       "      <td>1000</td>\n",
       "      <td>1658</td>\n",
       "    </tr>\n",
       "    <tr>\n",
       "      <th>2</th>\n",
       "      <td>2</td>\n",
       "      <td>10</td>\n",
       "      <td>2</td>\n",
       "      <td>36</td>\n",
       "      <td>46</td>\n",
       "      <td>2</td>\n",
       "      <td>2</td>\n",
       "      <td>3</td>\n",
       "      <td>90</td>\n",
       "      <td>200</td>\n",
       "      <td>3000</td>\n",
       "      <td>0</td>\n",
       "      <td>2000</td>\n",
       "      <td>2985</td>\n",
       "    </tr>\n",
       "    <tr>\n",
       "      <th>3</th>\n",
       "      <td>1</td>\n",
       "      <td>0</td>\n",
       "      <td>1</td>\n",
       "      <td>60</td>\n",
       "      <td>24</td>\n",
       "      <td>1</td>\n",
       "      <td>1</td>\n",
       "      <td>1</td>\n",
       "      <td>63</td>\n",
       "      <td>182</td>\n",
       "      <td>2500</td>\n",
       "      <td>0</td>\n",
       "      <td>900</td>\n",
       "      <td>1325</td>\n",
       "    </tr>\n",
       "    <tr>\n",
       "      <th>4</th>\n",
       "      <td>1</td>\n",
       "      <td>0</td>\n",
       "      <td>1</td>\n",
       "      <td>36</td>\n",
       "      <td>26</td>\n",
       "      <td>1</td>\n",
       "      <td>1</td>\n",
       "      <td>1</td>\n",
       "      <td>46</td>\n",
       "      <td>107</td>\n",
       "      <td>0</td>\n",
       "      <td>0</td>\n",
       "      <td>310</td>\n",
       "      <td>910</td>\n",
       "    </tr>\n",
       "  </tbody>\n",
       "</table>\n",
       "</div>"
      ],
      "text/plain": [
       "   Status  Seniority  Home  Time  Age  Marital  Records  Job  Expenses  \\\n",
       "0       1          9     1    60   30        2        1    3        73   \n",
       "1       1         17     1    60   58        3        1    1        48   \n",
       "2       2         10     2    36   46        2        2    3        90   \n",
       "3       1          0     1    60   24        1        1    1        63   \n",
       "4       1          0     1    36   26        1        1    1        46   \n",
       "\n",
       "   Income  Assets  Debt  Amount  Price  \n",
       "0     129       0     0     800    846  \n",
       "1     131       0     0    1000   1658  \n",
       "2     200    3000     0    2000   2985  \n",
       "3     182    2500     0     900   1325  \n",
       "4     107       0     0     310    910  "
      ]
     },
     "execution_count": 3,
     "metadata": {},
     "output_type": "execute_result"
    }
   ],
   "source": [
    "df = pd.read_csv(\"CreditScoring.csv\")\n",
    "df.head()"
   ]
  },
  {
   "cell_type": "code",
   "execution_count": 4,
   "metadata": {},
   "outputs": [],
   "source": [
    "df.columns = df.columns.str.lower()"
   ]
  },
  {
   "cell_type": "code",
   "execution_count": 5,
   "metadata": {},
   "outputs": [],
   "source": [
    "status_values = {1: \"ok\", 2: \"default\", 0: \"unknown\"}\n",
    "df.status = df.status.map(status_values)\n",
    "\n",
    "home_values = {\n",
    "    1: \"rent\",\n",
    "    2: \"owner\",\n",
    "    3: \"private\",\n",
    "    4: \"ignore\",\n",
    "    5: \"parents\",\n",
    "    6: \"other\",\n",
    "    0: \"unknown\",\n",
    "}\n",
    "df.home = df.home.map(home_values)\n",
    "\n",
    "marital_values = {\n",
    "    1: \"single\",\n",
    "    2: \"married\",\n",
    "    3: \"widow\",\n",
    "    4: \"separated\",\n",
    "    5: \"divorced\",\n",
    "    0: \"unknown\",\n",
    "}\n",
    "df.marital = df.marital.map(marital_values)\n",
    "\n",
    "records_values = {1: \"no\", 2: \"yes\", 0: \"unknown\"}\n",
    "df.records = df.records.map(records_values)\n",
    "\n",
    "job_values = {1: \"fixed\", 2: \"partime\", 3: \"freelance\", 4: \"others\", 0: \"unknown\"}\n",
    "df.job = df.job.map(job_values)"
   ]
  },
  {
   "cell_type": "code",
   "execution_count": 6,
   "metadata": {},
   "outputs": [
    {
     "data": {
      "text/html": [
       "<div>\n",
       "<style scoped>\n",
       "    .dataframe tbody tr th:only-of-type {\n",
       "        vertical-align: middle;\n",
       "    }\n",
       "\n",
       "    .dataframe tbody tr th {\n",
       "        vertical-align: top;\n",
       "    }\n",
       "\n",
       "    .dataframe thead th {\n",
       "        text-align: right;\n",
       "    }\n",
       "</style>\n",
       "<table border=\"1\" class=\"dataframe\">\n",
       "  <thead>\n",
       "    <tr style=\"text-align: right;\">\n",
       "      <th></th>\n",
       "      <th>status</th>\n",
       "      <th>seniority</th>\n",
       "      <th>home</th>\n",
       "      <th>time</th>\n",
       "      <th>age</th>\n",
       "      <th>marital</th>\n",
       "      <th>records</th>\n",
       "      <th>job</th>\n",
       "      <th>expenses</th>\n",
       "      <th>income</th>\n",
       "      <th>assets</th>\n",
       "      <th>debt</th>\n",
       "      <th>amount</th>\n",
       "      <th>price</th>\n",
       "    </tr>\n",
       "  </thead>\n",
       "  <tbody>\n",
       "    <tr>\n",
       "      <th>0</th>\n",
       "      <td>ok</td>\n",
       "      <td>9</td>\n",
       "      <td>rent</td>\n",
       "      <td>60</td>\n",
       "      <td>30</td>\n",
       "      <td>married</td>\n",
       "      <td>no</td>\n",
       "      <td>freelance</td>\n",
       "      <td>73</td>\n",
       "      <td>129</td>\n",
       "      <td>0</td>\n",
       "      <td>0</td>\n",
       "      <td>800</td>\n",
       "      <td>846</td>\n",
       "    </tr>\n",
       "    <tr>\n",
       "      <th>1</th>\n",
       "      <td>ok</td>\n",
       "      <td>17</td>\n",
       "      <td>rent</td>\n",
       "      <td>60</td>\n",
       "      <td>58</td>\n",
       "      <td>widow</td>\n",
       "      <td>no</td>\n",
       "      <td>fixed</td>\n",
       "      <td>48</td>\n",
       "      <td>131</td>\n",
       "      <td>0</td>\n",
       "      <td>0</td>\n",
       "      <td>1000</td>\n",
       "      <td>1658</td>\n",
       "    </tr>\n",
       "    <tr>\n",
       "      <th>2</th>\n",
       "      <td>default</td>\n",
       "      <td>10</td>\n",
       "      <td>owner</td>\n",
       "      <td>36</td>\n",
       "      <td>46</td>\n",
       "      <td>married</td>\n",
       "      <td>yes</td>\n",
       "      <td>freelance</td>\n",
       "      <td>90</td>\n",
       "      <td>200</td>\n",
       "      <td>3000</td>\n",
       "      <td>0</td>\n",
       "      <td>2000</td>\n",
       "      <td>2985</td>\n",
       "    </tr>\n",
       "    <tr>\n",
       "      <th>3</th>\n",
       "      <td>ok</td>\n",
       "      <td>0</td>\n",
       "      <td>rent</td>\n",
       "      <td>60</td>\n",
       "      <td>24</td>\n",
       "      <td>single</td>\n",
       "      <td>no</td>\n",
       "      <td>fixed</td>\n",
       "      <td>63</td>\n",
       "      <td>182</td>\n",
       "      <td>2500</td>\n",
       "      <td>0</td>\n",
       "      <td>900</td>\n",
       "      <td>1325</td>\n",
       "    </tr>\n",
       "    <tr>\n",
       "      <th>4</th>\n",
       "      <td>ok</td>\n",
       "      <td>0</td>\n",
       "      <td>rent</td>\n",
       "      <td>36</td>\n",
       "      <td>26</td>\n",
       "      <td>single</td>\n",
       "      <td>no</td>\n",
       "      <td>fixed</td>\n",
       "      <td>46</td>\n",
       "      <td>107</td>\n",
       "      <td>0</td>\n",
       "      <td>0</td>\n",
       "      <td>310</td>\n",
       "      <td>910</td>\n",
       "    </tr>\n",
       "  </tbody>\n",
       "</table>\n",
       "</div>"
      ],
      "text/plain": [
       "    status  seniority   home  time  age  marital records        job  expenses  \\\n",
       "0       ok          9   rent    60   30  married      no  freelance        73   \n",
       "1       ok         17   rent    60   58    widow      no      fixed        48   \n",
       "2  default         10  owner    36   46  married     yes  freelance        90   \n",
       "3       ok          0   rent    60   24   single      no      fixed        63   \n",
       "4       ok          0   rent    36   26   single      no      fixed        46   \n",
       "\n",
       "   income  assets  debt  amount  price  \n",
       "0     129       0     0     800    846  \n",
       "1     131       0     0    1000   1658  \n",
       "2     200    3000     0    2000   2985  \n",
       "3     182    2500     0     900   1325  \n",
       "4     107       0     0     310    910  "
      ]
     },
     "execution_count": 6,
     "metadata": {},
     "output_type": "execute_result"
    }
   ],
   "source": [
    "df.head()"
   ]
  },
  {
   "cell_type": "code",
   "execution_count": 8,
   "metadata": {},
   "outputs": [
    {
     "data": {
      "text/html": [
       "<div>\n",
       "<style scoped>\n",
       "    .dataframe tbody tr th:only-of-type {\n",
       "        vertical-align: middle;\n",
       "    }\n",
       "\n",
       "    .dataframe tbody tr th {\n",
       "        vertical-align: top;\n",
       "    }\n",
       "\n",
       "    .dataframe thead th {\n",
       "        text-align: right;\n",
       "    }\n",
       "</style>\n",
       "<table border=\"1\" class=\"dataframe\">\n",
       "  <thead>\n",
       "    <tr style=\"text-align: right;\">\n",
       "      <th></th>\n",
       "      <th>seniority</th>\n",
       "      <th>time</th>\n",
       "      <th>age</th>\n",
       "      <th>expenses</th>\n",
       "      <th>income</th>\n",
       "      <th>assets</th>\n",
       "      <th>debt</th>\n",
       "      <th>amount</th>\n",
       "      <th>price</th>\n",
       "    </tr>\n",
       "  </thead>\n",
       "  <tbody>\n",
       "    <tr>\n",
       "      <th>count</th>\n",
       "      <td>4455.0</td>\n",
       "      <td>4455.0</td>\n",
       "      <td>4455.0</td>\n",
       "      <td>4455.0</td>\n",
       "      <td>4455.0</td>\n",
       "      <td>4455.0</td>\n",
       "      <td>4455.0</td>\n",
       "      <td>4455.0</td>\n",
       "      <td>4455.0</td>\n",
       "    </tr>\n",
       "    <tr>\n",
       "      <th>mean</th>\n",
       "      <td>8.0</td>\n",
       "      <td>46.0</td>\n",
       "      <td>37.0</td>\n",
       "      <td>56.0</td>\n",
       "      <td>763317.0</td>\n",
       "      <td>1060341.0</td>\n",
       "      <td>404382.0</td>\n",
       "      <td>1039.0</td>\n",
       "      <td>1463.0</td>\n",
       "    </tr>\n",
       "    <tr>\n",
       "      <th>std</th>\n",
       "      <td>8.0</td>\n",
       "      <td>15.0</td>\n",
       "      <td>11.0</td>\n",
       "      <td>20.0</td>\n",
       "      <td>8703625.0</td>\n",
       "      <td>10217569.0</td>\n",
       "      <td>6344253.0</td>\n",
       "      <td>475.0</td>\n",
       "      <td>628.0</td>\n",
       "    </tr>\n",
       "    <tr>\n",
       "      <th>min</th>\n",
       "      <td>0.0</td>\n",
       "      <td>6.0</td>\n",
       "      <td>18.0</td>\n",
       "      <td>35.0</td>\n",
       "      <td>0.0</td>\n",
       "      <td>0.0</td>\n",
       "      <td>0.0</td>\n",
       "      <td>100.0</td>\n",
       "      <td>105.0</td>\n",
       "    </tr>\n",
       "    <tr>\n",
       "      <th>25%</th>\n",
       "      <td>2.0</td>\n",
       "      <td>36.0</td>\n",
       "      <td>28.0</td>\n",
       "      <td>35.0</td>\n",
       "      <td>80.0</td>\n",
       "      <td>0.0</td>\n",
       "      <td>0.0</td>\n",
       "      <td>700.0</td>\n",
       "      <td>1118.0</td>\n",
       "    </tr>\n",
       "    <tr>\n",
       "      <th>50%</th>\n",
       "      <td>5.0</td>\n",
       "      <td>48.0</td>\n",
       "      <td>36.0</td>\n",
       "      <td>51.0</td>\n",
       "      <td>120.0</td>\n",
       "      <td>3500.0</td>\n",
       "      <td>0.0</td>\n",
       "      <td>1000.0</td>\n",
       "      <td>1400.0</td>\n",
       "    </tr>\n",
       "    <tr>\n",
       "      <th>75%</th>\n",
       "      <td>12.0</td>\n",
       "      <td>60.0</td>\n",
       "      <td>45.0</td>\n",
       "      <td>72.0</td>\n",
       "      <td>166.0</td>\n",
       "      <td>6000.0</td>\n",
       "      <td>0.0</td>\n",
       "      <td>1300.0</td>\n",
       "      <td>1692.0</td>\n",
       "    </tr>\n",
       "    <tr>\n",
       "      <th>max</th>\n",
       "      <td>48.0</td>\n",
       "      <td>72.0</td>\n",
       "      <td>68.0</td>\n",
       "      <td>180.0</td>\n",
       "      <td>99999999.0</td>\n",
       "      <td>99999999.0</td>\n",
       "      <td>99999999.0</td>\n",
       "      <td>5000.0</td>\n",
       "      <td>11140.0</td>\n",
       "    </tr>\n",
       "  </tbody>\n",
       "</table>\n",
       "</div>"
      ],
      "text/plain": [
       "       seniority    time     age  expenses      income      assets  \\\n",
       "count     4455.0  4455.0  4455.0    4455.0      4455.0      4455.0   \n",
       "mean         8.0    46.0    37.0      56.0    763317.0   1060341.0   \n",
       "std          8.0    15.0    11.0      20.0   8703625.0  10217569.0   \n",
       "min          0.0     6.0    18.0      35.0         0.0         0.0   \n",
       "25%          2.0    36.0    28.0      35.0        80.0         0.0   \n",
       "50%          5.0    48.0    36.0      51.0       120.0      3500.0   \n",
       "75%         12.0    60.0    45.0      72.0       166.0      6000.0   \n",
       "max         48.0    72.0    68.0     180.0  99999999.0  99999999.0   \n",
       "\n",
       "             debt  amount    price  \n",
       "count      4455.0  4455.0   4455.0  \n",
       "mean     404382.0  1039.0   1463.0  \n",
       "std     6344253.0   475.0    628.0  \n",
       "min           0.0   100.0    105.0  \n",
       "25%           0.0   700.0   1118.0  \n",
       "50%           0.0  1000.0   1400.0  \n",
       "75%           0.0  1300.0   1692.0  \n",
       "max    99999999.0  5000.0  11140.0  "
      ]
     },
     "execution_count": 8,
     "metadata": {},
     "output_type": "execute_result"
    }
   ],
   "source": [
    "df.describe().round()"
   ]
  },
  {
   "cell_type": "code",
   "execution_count": 10,
   "metadata": {},
   "outputs": [],
   "source": [
    "for col in [\"income\", \"assets\", \"debt\"]:\n",
    "    df[col].replace(to_replace=99999999, value=np.nan, inplace=True)"
   ]
  },
  {
   "cell_type": "code",
   "execution_count": 11,
   "metadata": {},
   "outputs": [
    {
     "data": {
      "text/html": [
       "<div>\n",
       "<style scoped>\n",
       "    .dataframe tbody tr th:only-of-type {\n",
       "        vertical-align: middle;\n",
       "    }\n",
       "\n",
       "    .dataframe tbody tr th {\n",
       "        vertical-align: top;\n",
       "    }\n",
       "\n",
       "    .dataframe thead th {\n",
       "        text-align: right;\n",
       "    }\n",
       "</style>\n",
       "<table border=\"1\" class=\"dataframe\">\n",
       "  <thead>\n",
       "    <tr style=\"text-align: right;\">\n",
       "      <th></th>\n",
       "      <th>seniority</th>\n",
       "      <th>time</th>\n",
       "      <th>age</th>\n",
       "      <th>expenses</th>\n",
       "      <th>income</th>\n",
       "      <th>assets</th>\n",
       "      <th>debt</th>\n",
       "      <th>amount</th>\n",
       "      <th>price</th>\n",
       "    </tr>\n",
       "  </thead>\n",
       "  <tbody>\n",
       "    <tr>\n",
       "      <th>count</th>\n",
       "      <td>4455.0</td>\n",
       "      <td>4455.0</td>\n",
       "      <td>4455.0</td>\n",
       "      <td>4455.0</td>\n",
       "      <td>4421.0</td>\n",
       "      <td>4408.0</td>\n",
       "      <td>4437.0</td>\n",
       "      <td>4455.0</td>\n",
       "      <td>4455.0</td>\n",
       "    </tr>\n",
       "    <tr>\n",
       "      <th>mean</th>\n",
       "      <td>8.0</td>\n",
       "      <td>46.0</td>\n",
       "      <td>37.0</td>\n",
       "      <td>56.0</td>\n",
       "      <td>131.0</td>\n",
       "      <td>5403.0</td>\n",
       "      <td>343.0</td>\n",
       "      <td>1039.0</td>\n",
       "      <td>1463.0</td>\n",
       "    </tr>\n",
       "    <tr>\n",
       "      <th>std</th>\n",
       "      <td>8.0</td>\n",
       "      <td>15.0</td>\n",
       "      <td>11.0</td>\n",
       "      <td>20.0</td>\n",
       "      <td>86.0</td>\n",
       "      <td>11573.0</td>\n",
       "      <td>1246.0</td>\n",
       "      <td>475.0</td>\n",
       "      <td>628.0</td>\n",
       "    </tr>\n",
       "    <tr>\n",
       "      <th>min</th>\n",
       "      <td>0.0</td>\n",
       "      <td>6.0</td>\n",
       "      <td>18.0</td>\n",
       "      <td>35.0</td>\n",
       "      <td>0.0</td>\n",
       "      <td>0.0</td>\n",
       "      <td>0.0</td>\n",
       "      <td>100.0</td>\n",
       "      <td>105.0</td>\n",
       "    </tr>\n",
       "    <tr>\n",
       "      <th>25%</th>\n",
       "      <td>2.0</td>\n",
       "      <td>36.0</td>\n",
       "      <td>28.0</td>\n",
       "      <td>35.0</td>\n",
       "      <td>80.0</td>\n",
       "      <td>0.0</td>\n",
       "      <td>0.0</td>\n",
       "      <td>700.0</td>\n",
       "      <td>1118.0</td>\n",
       "    </tr>\n",
       "    <tr>\n",
       "      <th>50%</th>\n",
       "      <td>5.0</td>\n",
       "      <td>48.0</td>\n",
       "      <td>36.0</td>\n",
       "      <td>51.0</td>\n",
       "      <td>120.0</td>\n",
       "      <td>3000.0</td>\n",
       "      <td>0.0</td>\n",
       "      <td>1000.0</td>\n",
       "      <td>1400.0</td>\n",
       "    </tr>\n",
       "    <tr>\n",
       "      <th>75%</th>\n",
       "      <td>12.0</td>\n",
       "      <td>60.0</td>\n",
       "      <td>45.0</td>\n",
       "      <td>72.0</td>\n",
       "      <td>165.0</td>\n",
       "      <td>6000.0</td>\n",
       "      <td>0.0</td>\n",
       "      <td>1300.0</td>\n",
       "      <td>1692.0</td>\n",
       "    </tr>\n",
       "    <tr>\n",
       "      <th>max</th>\n",
       "      <td>48.0</td>\n",
       "      <td>72.0</td>\n",
       "      <td>68.0</td>\n",
       "      <td>180.0</td>\n",
       "      <td>959.0</td>\n",
       "      <td>300000.0</td>\n",
       "      <td>30000.0</td>\n",
       "      <td>5000.0</td>\n",
       "      <td>11140.0</td>\n",
       "    </tr>\n",
       "  </tbody>\n",
       "</table>\n",
       "</div>"
      ],
      "text/plain": [
       "       seniority    time     age  expenses  income    assets     debt  amount  \\\n",
       "count     4455.0  4455.0  4455.0    4455.0  4421.0    4408.0   4437.0  4455.0   \n",
       "mean         8.0    46.0    37.0      56.0   131.0    5403.0    343.0  1039.0   \n",
       "std          8.0    15.0    11.0      20.0    86.0   11573.0   1246.0   475.0   \n",
       "min          0.0     6.0    18.0      35.0     0.0       0.0      0.0   100.0   \n",
       "25%          2.0    36.0    28.0      35.0    80.0       0.0      0.0   700.0   \n",
       "50%          5.0    48.0    36.0      51.0   120.0    3000.0      0.0  1000.0   \n",
       "75%         12.0    60.0    45.0      72.0   165.0    6000.0      0.0  1300.0   \n",
       "max         48.0    72.0    68.0     180.0   959.0  300000.0  30000.0  5000.0   \n",
       "\n",
       "         price  \n",
       "count   4455.0  \n",
       "mean    1463.0  \n",
       "std      628.0  \n",
       "min      105.0  \n",
       "25%     1118.0  \n",
       "50%     1400.0  \n",
       "75%     1692.0  \n",
       "max    11140.0  "
      ]
     },
     "execution_count": 11,
     "metadata": {},
     "output_type": "execute_result"
    }
   ],
   "source": [
    "df.describe().round()"
   ]
  },
  {
   "cell_type": "code",
   "execution_count": 12,
   "metadata": {},
   "outputs": [
    {
     "data": {
      "text/plain": [
       "status\n",
       "ok         3200\n",
       "default    1254\n",
       "unknown       1\n",
       "Name: count, dtype: int64"
      ]
     },
     "execution_count": 12,
     "metadata": {},
     "output_type": "execute_result"
    }
   ],
   "source": [
    "df.status.value_counts()"
   ]
  },
  {
   "cell_type": "code",
   "execution_count": 13,
   "metadata": {},
   "outputs": [],
   "source": [
    "# Remove clients with unknown status\n",
    "df = df[df.status != \"unknown\"].reset_index(drop=True)"
   ]
  },
  {
   "cell_type": "code",
   "execution_count": 18,
   "metadata": {},
   "outputs": [],
   "source": [
    "# Split dataset into train, val, and test\n",
    "df_full_train, df_test = train_test_split(df, test_size=0.2, random_state=11)\n",
    "df_train, df_val = train_test_split(df_full_train, test_size=0.25, random_state=11)\n",
    "\n",
    "df_train = df_train.reset_index(drop=True)\n",
    "df_val = df_val.reset_index(drop=True)\n",
    "df_test = df_test.reset_index(drop=True)"
   ]
  },
  {
   "cell_type": "code",
   "execution_count": 19,
   "metadata": {},
   "outputs": [],
   "source": [
    "# Get target variable\n",
    "y_train = (df_train.status == \"default\").astype(\"int\").values\n",
    "y_val = (df_val.status == \"default\").astype(\"int\").values\n",
    "y_test = (df_test.status == \"default\").astype(\"int\").values"
   ]
  },
  {
   "cell_type": "code",
   "execution_count": 20,
   "metadata": {},
   "outputs": [],
   "source": [
    "# Remove target variable from datasets\n",
    "del df_train[\"status\"]\n",
    "del df_val[\"status\"]\n",
    "del df_test[\"status\"]"
   ]
  },
  {
   "cell_type": "markdown",
   "metadata": {},
   "source": [
    "## Decision trees\n",
    "\n",
    "- How a decision tree looks like\n",
    "- How to build a decision tree\n",
    "- Overfitting and underfitting\n",
    "- Controlling the size of a tree"
   ]
  },
  {
   "cell_type": "code",
   "execution_count": 25,
   "metadata": {},
   "outputs": [],
   "source": [
    "train_dicts = df_train.fillna(0).to_dict(orient=\"records\")\n",
    "dv = DictVectorizer(sparse=False)\n",
    "X_train = dv.fit_transform(train_dicts)"
   ]
  },
  {
   "cell_type": "code",
   "execution_count": 27,
   "metadata": {},
   "outputs": [
    {
     "data": {
      "text/html": [
       "<style>#sk-container-id-1 {color: black;}#sk-container-id-1 pre{padding: 0;}#sk-container-id-1 div.sk-toggleable {background-color: white;}#sk-container-id-1 label.sk-toggleable__label {cursor: pointer;display: block;width: 100%;margin-bottom: 0;padding: 0.3em;box-sizing: border-box;text-align: center;}#sk-container-id-1 label.sk-toggleable__label-arrow:before {content: \"▸\";float: left;margin-right: 0.25em;color: #696969;}#sk-container-id-1 label.sk-toggleable__label-arrow:hover:before {color: black;}#sk-container-id-1 div.sk-estimator:hover label.sk-toggleable__label-arrow:before {color: black;}#sk-container-id-1 div.sk-toggleable__content {max-height: 0;max-width: 0;overflow: hidden;text-align: left;background-color: #f0f8ff;}#sk-container-id-1 div.sk-toggleable__content pre {margin: 0.2em;color: black;border-radius: 0.25em;background-color: #f0f8ff;}#sk-container-id-1 input.sk-toggleable__control:checked~div.sk-toggleable__content {max-height: 200px;max-width: 100%;overflow: auto;}#sk-container-id-1 input.sk-toggleable__control:checked~label.sk-toggleable__label-arrow:before {content: \"▾\";}#sk-container-id-1 div.sk-estimator input.sk-toggleable__control:checked~label.sk-toggleable__label {background-color: #d4ebff;}#sk-container-id-1 div.sk-label input.sk-toggleable__control:checked~label.sk-toggleable__label {background-color: #d4ebff;}#sk-container-id-1 input.sk-hidden--visually {border: 0;clip: rect(1px 1px 1px 1px);clip: rect(1px, 1px, 1px, 1px);height: 1px;margin: -1px;overflow: hidden;padding: 0;position: absolute;width: 1px;}#sk-container-id-1 div.sk-estimator {font-family: monospace;background-color: #f0f8ff;border: 1px dotted black;border-radius: 0.25em;box-sizing: border-box;margin-bottom: 0.5em;}#sk-container-id-1 div.sk-estimator:hover {background-color: #d4ebff;}#sk-container-id-1 div.sk-parallel-item::after {content: \"\";width: 100%;border-bottom: 1px solid gray;flex-grow: 1;}#sk-container-id-1 div.sk-label:hover label.sk-toggleable__label {background-color: #d4ebff;}#sk-container-id-1 div.sk-serial::before {content: \"\";position: absolute;border-left: 1px solid gray;box-sizing: border-box;top: 0;bottom: 0;left: 50%;z-index: 0;}#sk-container-id-1 div.sk-serial {display: flex;flex-direction: column;align-items: center;background-color: white;padding-right: 0.2em;padding-left: 0.2em;position: relative;}#sk-container-id-1 div.sk-item {position: relative;z-index: 1;}#sk-container-id-1 div.sk-parallel {display: flex;align-items: stretch;justify-content: center;background-color: white;position: relative;}#sk-container-id-1 div.sk-item::before, #sk-container-id-1 div.sk-parallel-item::before {content: \"\";position: absolute;border-left: 1px solid gray;box-sizing: border-box;top: 0;bottom: 0;left: 50%;z-index: -1;}#sk-container-id-1 div.sk-parallel-item {display: flex;flex-direction: column;z-index: 1;position: relative;background-color: white;}#sk-container-id-1 div.sk-parallel-item:first-child::after {align-self: flex-end;width: 50%;}#sk-container-id-1 div.sk-parallel-item:last-child::after {align-self: flex-start;width: 50%;}#sk-container-id-1 div.sk-parallel-item:only-child::after {width: 0;}#sk-container-id-1 div.sk-dashed-wrapped {border: 1px dashed gray;margin: 0 0.4em 0.5em 0.4em;box-sizing: border-box;padding-bottom: 0.4em;background-color: white;}#sk-container-id-1 div.sk-label label {font-family: monospace;font-weight: bold;display: inline-block;line-height: 1.2em;}#sk-container-id-1 div.sk-label-container {text-align: center;}#sk-container-id-1 div.sk-container {/* jupyter's `normalize.less` sets `[hidden] { display: none; }` but bootstrap.min.css set `[hidden] { display: none !important; }` so we also need the `!important` here to be able to override the default hidden behavior on the sphinx rendered scikit-learn.org. See: https://github.com/scikit-learn/scikit-learn/issues/21755 */display: inline-block !important;position: relative;}#sk-container-id-1 div.sk-text-repr-fallback {display: none;}</style><div id=\"sk-container-id-1\" class=\"sk-top-container\"><div class=\"sk-text-repr-fallback\"><pre>DecisionTreeClassifier()</pre><b>In a Jupyter environment, please rerun this cell to show the HTML representation or trust the notebook. <br />On GitHub, the HTML representation is unable to render, please try loading this page with nbviewer.org.</b></div><div class=\"sk-container\" hidden><div class=\"sk-item\"><div class=\"sk-estimator sk-toggleable\"><input class=\"sk-toggleable__control sk-hidden--visually\" id=\"sk-estimator-id-1\" type=\"checkbox\" checked><label for=\"sk-estimator-id-1\" class=\"sk-toggleable__label sk-toggleable__label-arrow\">DecisionTreeClassifier</label><div class=\"sk-toggleable__content\"><pre>DecisionTreeClassifier()</pre></div></div></div></div></div>"
      ],
      "text/plain": [
       "DecisionTreeClassifier()"
      ]
     },
     "execution_count": 27,
     "metadata": {},
     "output_type": "execute_result"
    }
   ],
   "source": [
    "dt = DecisionTreeClassifier()\n",
    "dt.fit(X_train, y_train)"
   ]
  },
  {
   "cell_type": "code",
   "execution_count": 28,
   "metadata": {},
   "outputs": [],
   "source": [
    "val_dicts = df_val.fillna(0).to_dict(orient=\"records\")\n",
    "X_val = dv.transform(val_dicts)"
   ]
  },
  {
   "cell_type": "code",
   "execution_count": 31,
   "metadata": {},
   "outputs": [
    {
     "data": {
      "text/plain": [
       "1.0"
      ]
     },
     "execution_count": 31,
     "metadata": {},
     "output_type": "execute_result"
    }
   ],
   "source": [
    "# Accuracy in the training dataset\n",
    "y_pred = dt.predict_proba(X_train)[:, 1]\n",
    "roc_auc_score(y_train, y_pred)"
   ]
  },
  {
   "cell_type": "code",
   "execution_count": 30,
   "metadata": {},
   "outputs": [
    {
     "data": {
      "text/plain": [
       "0.6553274321280667"
      ]
     },
     "execution_count": 30,
     "metadata": {},
     "output_type": "execute_result"
    }
   ],
   "source": [
    "# Accuracy in the validation dataset\n",
    "y_pred = dt.predict_proba(X_val)[:, 1]\n",
    "roc_auc_score(y_val, y_pred)"
   ]
  },
  {
   "cell_type": "code",
   "execution_count": 52,
   "metadata": {},
   "outputs": [
    {
     "data": {
      "text/html": [
       "<style>#sk-container-id-11 {color: black;}#sk-container-id-11 pre{padding: 0;}#sk-container-id-11 div.sk-toggleable {background-color: white;}#sk-container-id-11 label.sk-toggleable__label {cursor: pointer;display: block;width: 100%;margin-bottom: 0;padding: 0.3em;box-sizing: border-box;text-align: center;}#sk-container-id-11 label.sk-toggleable__label-arrow:before {content: \"▸\";float: left;margin-right: 0.25em;color: #696969;}#sk-container-id-11 label.sk-toggleable__label-arrow:hover:before {color: black;}#sk-container-id-11 div.sk-estimator:hover label.sk-toggleable__label-arrow:before {color: black;}#sk-container-id-11 div.sk-toggleable__content {max-height: 0;max-width: 0;overflow: hidden;text-align: left;background-color: #f0f8ff;}#sk-container-id-11 div.sk-toggleable__content pre {margin: 0.2em;color: black;border-radius: 0.25em;background-color: #f0f8ff;}#sk-container-id-11 input.sk-toggleable__control:checked~div.sk-toggleable__content {max-height: 200px;max-width: 100%;overflow: auto;}#sk-container-id-11 input.sk-toggleable__control:checked~label.sk-toggleable__label-arrow:before {content: \"▾\";}#sk-container-id-11 div.sk-estimator input.sk-toggleable__control:checked~label.sk-toggleable__label {background-color: #d4ebff;}#sk-container-id-11 div.sk-label input.sk-toggleable__control:checked~label.sk-toggleable__label {background-color: #d4ebff;}#sk-container-id-11 input.sk-hidden--visually {border: 0;clip: rect(1px 1px 1px 1px);clip: rect(1px, 1px, 1px, 1px);height: 1px;margin: -1px;overflow: hidden;padding: 0;position: absolute;width: 1px;}#sk-container-id-11 div.sk-estimator {font-family: monospace;background-color: #f0f8ff;border: 1px dotted black;border-radius: 0.25em;box-sizing: border-box;margin-bottom: 0.5em;}#sk-container-id-11 div.sk-estimator:hover {background-color: #d4ebff;}#sk-container-id-11 div.sk-parallel-item::after {content: \"\";width: 100%;border-bottom: 1px solid gray;flex-grow: 1;}#sk-container-id-11 div.sk-label:hover label.sk-toggleable__label {background-color: #d4ebff;}#sk-container-id-11 div.sk-serial::before {content: \"\";position: absolute;border-left: 1px solid gray;box-sizing: border-box;top: 0;bottom: 0;left: 50%;z-index: 0;}#sk-container-id-11 div.sk-serial {display: flex;flex-direction: column;align-items: center;background-color: white;padding-right: 0.2em;padding-left: 0.2em;position: relative;}#sk-container-id-11 div.sk-item {position: relative;z-index: 1;}#sk-container-id-11 div.sk-parallel {display: flex;align-items: stretch;justify-content: center;background-color: white;position: relative;}#sk-container-id-11 div.sk-item::before, #sk-container-id-11 div.sk-parallel-item::before {content: \"\";position: absolute;border-left: 1px solid gray;box-sizing: border-box;top: 0;bottom: 0;left: 50%;z-index: -1;}#sk-container-id-11 div.sk-parallel-item {display: flex;flex-direction: column;z-index: 1;position: relative;background-color: white;}#sk-container-id-11 div.sk-parallel-item:first-child::after {align-self: flex-end;width: 50%;}#sk-container-id-11 div.sk-parallel-item:last-child::after {align-self: flex-start;width: 50%;}#sk-container-id-11 div.sk-parallel-item:only-child::after {width: 0;}#sk-container-id-11 div.sk-dashed-wrapped {border: 1px dashed gray;margin: 0 0.4em 0.5em 0.4em;box-sizing: border-box;padding-bottom: 0.4em;background-color: white;}#sk-container-id-11 div.sk-label label {font-family: monospace;font-weight: bold;display: inline-block;line-height: 1.2em;}#sk-container-id-11 div.sk-label-container {text-align: center;}#sk-container-id-11 div.sk-container {/* jupyter's `normalize.less` sets `[hidden] { display: none; }` but bootstrap.min.css set `[hidden] { display: none !important; }` so we also need the `!important` here to be able to override the default hidden behavior on the sphinx rendered scikit-learn.org. See: https://github.com/scikit-learn/scikit-learn/issues/21755 */display: inline-block !important;position: relative;}#sk-container-id-11 div.sk-text-repr-fallback {display: none;}</style><div id=\"sk-container-id-11\" class=\"sk-top-container\"><div class=\"sk-text-repr-fallback\"><pre>DecisionTreeClassifier(max_depth=3)</pre><b>In a Jupyter environment, please rerun this cell to show the HTML representation or trust the notebook. <br />On GitHub, the HTML representation is unable to render, please try loading this page with nbviewer.org.</b></div><div class=\"sk-container\" hidden><div class=\"sk-item\"><div class=\"sk-estimator sk-toggleable\"><input class=\"sk-toggleable__control sk-hidden--visually\" id=\"sk-estimator-id-11\" type=\"checkbox\" checked><label for=\"sk-estimator-id-11\" class=\"sk-toggleable__label sk-toggleable__label-arrow\">DecisionTreeClassifier</label><div class=\"sk-toggleable__content\"><pre>DecisionTreeClassifier(max_depth=3)</pre></div></div></div></div></div>"
      ],
      "text/plain": [
       "DecisionTreeClassifier(max_depth=3)"
      ]
     },
     "execution_count": 52,
     "metadata": {},
     "output_type": "execute_result"
    }
   ],
   "source": [
    "# Try a new model controlling the depth of the tree\n",
    "dt = DecisionTreeClassifier(max_depth=3)\n",
    "dt.fit(X_train, y_train)"
   ]
  },
  {
   "cell_type": "code",
   "execution_count": 53,
   "metadata": {},
   "outputs": [
    {
     "name": "stdout",
     "output_type": "stream",
     "text": [
      "Train: 0.7761\n",
      "Validation: 0.7389\n"
     ]
    }
   ],
   "source": [
    "y_pred = dt.predict_proba(X_train)[:, 1]\n",
    "auc_train = roc_auc_score(y_train, y_pred)\n",
    "\n",
    "y_pred = dt.predict_proba(X_val)[:, 1]\n",
    "auc_val = roc_auc_score(y_val, y_pred)\n",
    "roc_auc_score(y_val, y_pred)\n",
    "\n",
    "print(f\"Train: {auc_train:.4f}\")\n",
    "print(f\"Validation: {auc_val:.4f}\")"
   ]
  },
  {
   "cell_type": "code",
   "execution_count": 54,
   "metadata": {},
   "outputs": [
    {
     "name": "stdout",
     "output_type": "stream",
     "text": [
      "|--- records=yes <= 0.50\n",
      "|   |--- job=partime <= 0.50\n",
      "|   |   |--- income <= 74.50\n",
      "|   |   |   |--- class: 0\n",
      "|   |   |--- income >  74.50\n",
      "|   |   |   |--- class: 0\n",
      "|   |--- job=partime >  0.50\n",
      "|   |   |--- assets <= 8750.00\n",
      "|   |   |   |--- class: 1\n",
      "|   |   |--- assets >  8750.00\n",
      "|   |   |   |--- class: 0\n",
      "|--- records=yes >  0.50\n",
      "|   |--- seniority <= 6.50\n",
      "|   |   |--- amount <= 862.50\n",
      "|   |   |   |--- class: 0\n",
      "|   |   |--- amount >  862.50\n",
      "|   |   |   |--- class: 1\n",
      "|   |--- seniority >  6.50\n",
      "|   |   |--- income <= 103.50\n",
      "|   |   |   |--- class: 1\n",
      "|   |   |--- income >  103.50\n",
      "|   |   |   |--- class: 0\n",
      "\n"
     ]
    }
   ],
   "source": [
    "print(export_text(dt, feature_names=dv.feature_names_))"
   ]
  },
  {
   "cell_type": "markdown",
   "metadata": {},
   "source": [
    "## Decision tree learning algorithm\n",
    "\n",
    "- Finding the best split for one feature\n",
    "- Finding the best split for the entire dataset\n",
    "- Stopping criteria\n",
    "- Decision tree learning algorithm"
   ]
  },
  {
   "cell_type": "code",
   "execution_count": 58,
   "metadata": {},
   "outputs": [],
   "source": [
    "data = [\n",
    "    [8000, \"default\"],\n",
    "    [2000, \"default\"],\n",
    "    [0, \"default\"],\n",
    "    [5000, \"ok\"],\n",
    "    [5000, \"ok\"],\n",
    "    [4000, \"ok\"],\n",
    "    [9000, \"ok\"],\n",
    "    [3000, \"default\"],\n",
    "]\n",
    "\n",
    "df_example = pd.DataFrame(data, columns=[\"assets\", \"status\"])\n",
    "df_example.sort_values(\"assets\", inplace=True)"
   ]
  },
  {
   "cell_type": "code",
   "execution_count": 66,
   "metadata": {},
   "outputs": [
    {
     "name": "stdout",
     "output_type": "stream",
     "text": [
      "2000\n",
      "3000\n",
      "4000\n",
      "5000\n",
      "8000\n"
     ]
    }
   ],
   "source": [
    "Ts = [2000, 3000, 4000, 5000, 8000]\n",
    "ls_out = []\n",
    "for T in Ts:\n",
    "    df_left = df_example[df_example.assets <= T]\n",
    "    df_right = df_example[df_example.assets > T]\n",
    "    # Estimate missclassification rate for each split\n",
    "    print(T)\n",
    "    decision_left = df_left.status.mode()[0]\n",
    "    impurity_left = 1 - (df_left.status == decision_left).mean()\n",
    "    decision_right = df_right.status.mode()[0]\n",
    "    impurity_right = 1 - (df_right.status == decision_right).mean()\n",
    "    mean_impurity = (\n",
    "        len(df_left) * impurity_left + len(df_right) * impurity_right\n",
    "    ) / len(df_example)\n",
    "    # Append list of results to dataframe\n",
    "    ls_out.append(\n",
    "        {\n",
    "            \"T\": T,\n",
    "            \"impurity_left\": impurity_left,\n",
    "            \"impurity_right\": impurity_right,\n",
    "            \"mean_impurity\": mean_impurity,\n",
    "        }\n",
    "    )\n",
    "df_out = pd.DataFrame(ls_out)"
   ]
  },
  {
   "cell_type": "code",
   "execution_count": 72,
   "metadata": {},
   "outputs": [
    {
     "data": {
      "text/html": [
       "<div>\n",
       "<style scoped>\n",
       "    .dataframe tbody tr th:only-of-type {\n",
       "        vertical-align: middle;\n",
       "    }\n",
       "\n",
       "    .dataframe tbody tr th {\n",
       "        vertical-align: top;\n",
       "    }\n",
       "\n",
       "    .dataframe thead th {\n",
       "        text-align: right;\n",
       "    }\n",
       "</style>\n",
       "<table border=\"1\" class=\"dataframe\">\n",
       "  <thead>\n",
       "    <tr style=\"text-align: right;\">\n",
       "      <th></th>\n",
       "      <th>assets</th>\n",
       "      <th>debt</th>\n",
       "      <th>status</th>\n",
       "    </tr>\n",
       "  </thead>\n",
       "  <tbody>\n",
       "    <tr>\n",
       "      <th>0</th>\n",
       "      <td>8000</td>\n",
       "      <td>3000</td>\n",
       "      <td>default</td>\n",
       "    </tr>\n",
       "    <tr>\n",
       "      <th>1</th>\n",
       "      <td>2000</td>\n",
       "      <td>1000</td>\n",
       "      <td>default</td>\n",
       "    </tr>\n",
       "    <tr>\n",
       "      <th>2</th>\n",
       "      <td>0</td>\n",
       "      <td>1000</td>\n",
       "      <td>default</td>\n",
       "    </tr>\n",
       "    <tr>\n",
       "      <th>3</th>\n",
       "      <td>5000</td>\n",
       "      <td>1000</td>\n",
       "      <td>ok</td>\n",
       "    </tr>\n",
       "    <tr>\n",
       "      <th>4</th>\n",
       "      <td>5000</td>\n",
       "      <td>1000</td>\n",
       "      <td>ok</td>\n",
       "    </tr>\n",
       "    <tr>\n",
       "      <th>5</th>\n",
       "      <td>4000</td>\n",
       "      <td>1000</td>\n",
       "      <td>ok</td>\n",
       "    </tr>\n",
       "    <tr>\n",
       "      <th>6</th>\n",
       "      <td>9000</td>\n",
       "      <td>500</td>\n",
       "      <td>ok</td>\n",
       "    </tr>\n",
       "    <tr>\n",
       "      <th>7</th>\n",
       "      <td>3000</td>\n",
       "      <td>2000</td>\n",
       "      <td>default</td>\n",
       "    </tr>\n",
       "  </tbody>\n",
       "</table>\n",
       "</div>"
      ],
      "text/plain": [
       "   assets  debt   status\n",
       "0    8000  3000  default\n",
       "1    2000  1000  default\n",
       "2       0  1000  default\n",
       "3    5000  1000       ok\n",
       "4    5000  1000       ok\n",
       "5    4000  1000       ok\n",
       "6    9000   500       ok\n",
       "7    3000  2000  default"
      ]
     },
     "execution_count": 72,
     "metadata": {},
     "output_type": "execute_result"
    }
   ],
   "source": [
    "# Decision tree example with two features\n",
    "data = [\n",
    "    [8000, 3000, \"default\"],\n",
    "    [2000, 1000, \"default\"],\n",
    "    [0, 1000, \"default\"],\n",
    "    [5000, 1000, \"ok\"],\n",
    "    [5000, 1000, \"ok\"],\n",
    "    [4000, 1000, \"ok\"],\n",
    "    [9000, 500, \"ok\"],\n",
    "    [3000, 2000, \"default\"],\n",
    "]\n",
    "df_example = pd.DataFrame(data, columns=[\"assets\", \"debt\", \"status\"])\n",
    "df_example"
   ]
  },
  {
   "cell_type": "code",
   "execution_count": 73,
   "metadata": {},
   "outputs": [
    {
     "data": {
      "text/html": [
       "<div>\n",
       "<style scoped>\n",
       "    .dataframe tbody tr th:only-of-type {\n",
       "        vertical-align: middle;\n",
       "    }\n",
       "\n",
       "    .dataframe tbody tr th {\n",
       "        vertical-align: top;\n",
       "    }\n",
       "\n",
       "    .dataframe thead th {\n",
       "        text-align: right;\n",
       "    }\n",
       "</style>\n",
       "<table border=\"1\" class=\"dataframe\">\n",
       "  <thead>\n",
       "    <tr style=\"text-align: right;\">\n",
       "      <th></th>\n",
       "      <th>assets</th>\n",
       "      <th>debt</th>\n",
       "      <th>status</th>\n",
       "    </tr>\n",
       "  </thead>\n",
       "  <tbody>\n",
       "    <tr>\n",
       "      <th>6</th>\n",
       "      <td>9000</td>\n",
       "      <td>500</td>\n",
       "      <td>ok</td>\n",
       "    </tr>\n",
       "    <tr>\n",
       "      <th>1</th>\n",
       "      <td>2000</td>\n",
       "      <td>1000</td>\n",
       "      <td>default</td>\n",
       "    </tr>\n",
       "    <tr>\n",
       "      <th>2</th>\n",
       "      <td>0</td>\n",
       "      <td>1000</td>\n",
       "      <td>default</td>\n",
       "    </tr>\n",
       "    <tr>\n",
       "      <th>3</th>\n",
       "      <td>5000</td>\n",
       "      <td>1000</td>\n",
       "      <td>ok</td>\n",
       "    </tr>\n",
       "    <tr>\n",
       "      <th>4</th>\n",
       "      <td>5000</td>\n",
       "      <td>1000</td>\n",
       "      <td>ok</td>\n",
       "    </tr>\n",
       "    <tr>\n",
       "      <th>5</th>\n",
       "      <td>4000</td>\n",
       "      <td>1000</td>\n",
       "      <td>ok</td>\n",
       "    </tr>\n",
       "    <tr>\n",
       "      <th>7</th>\n",
       "      <td>3000</td>\n",
       "      <td>2000</td>\n",
       "      <td>default</td>\n",
       "    </tr>\n",
       "    <tr>\n",
       "      <th>0</th>\n",
       "      <td>8000</td>\n",
       "      <td>3000</td>\n",
       "      <td>default</td>\n",
       "    </tr>\n",
       "  </tbody>\n",
       "</table>\n",
       "</div>"
      ],
      "text/plain": [
       "   assets  debt   status\n",
       "6    9000   500       ok\n",
       "1    2000  1000  default\n",
       "2       0  1000  default\n",
       "3    5000  1000       ok\n",
       "4    5000  1000       ok\n",
       "5    4000  1000       ok\n",
       "7    3000  2000  default\n",
       "0    8000  3000  default"
      ]
     },
     "execution_count": 73,
     "metadata": {},
     "output_type": "execute_result"
    }
   ],
   "source": [
    "df_example.sort_values(\"debt\")"
   ]
  },
  {
   "cell_type": "code",
   "execution_count": 78,
   "metadata": {},
   "outputs": [
    {
     "data": {
      "text/html": [
       "<div>\n",
       "<style scoped>\n",
       "    .dataframe tbody tr th:only-of-type {\n",
       "        vertical-align: middle;\n",
       "    }\n",
       "\n",
       "    .dataframe tbody tr th {\n",
       "        vertical-align: top;\n",
       "    }\n",
       "\n",
       "    .dataframe thead th {\n",
       "        text-align: right;\n",
       "    }\n",
       "</style>\n",
       "<table border=\"1\" class=\"dataframe\">\n",
       "  <thead>\n",
       "    <tr style=\"text-align: right;\">\n",
       "      <th></th>\n",
       "      <th>Feature</th>\n",
       "      <th>T</th>\n",
       "      <th>impurity_left</th>\n",
       "      <th>impurity_right</th>\n",
       "      <th>mean_impurity</th>\n",
       "    </tr>\n",
       "  </thead>\n",
       "  <tbody>\n",
       "    <tr>\n",
       "      <th>0</th>\n",
       "      <td>assets</td>\n",
       "      <td>2000</td>\n",
       "      <td>0.000000</td>\n",
       "      <td>0.333333</td>\n",
       "      <td>0.250</td>\n",
       "    </tr>\n",
       "    <tr>\n",
       "      <th>1</th>\n",
       "      <td>assets</td>\n",
       "      <td>3000</td>\n",
       "      <td>0.000000</td>\n",
       "      <td>0.200000</td>\n",
       "      <td>0.125</td>\n",
       "    </tr>\n",
       "    <tr>\n",
       "      <th>2</th>\n",
       "      <td>assets</td>\n",
       "      <td>4000</td>\n",
       "      <td>0.250000</td>\n",
       "      <td>0.250000</td>\n",
       "      <td>0.250</td>\n",
       "    </tr>\n",
       "    <tr>\n",
       "      <th>3</th>\n",
       "      <td>assets</td>\n",
       "      <td>5000</td>\n",
       "      <td>0.500000</td>\n",
       "      <td>0.500000</td>\n",
       "      <td>0.500</td>\n",
       "    </tr>\n",
       "    <tr>\n",
       "      <th>4</th>\n",
       "      <td>assets</td>\n",
       "      <td>8000</td>\n",
       "      <td>0.428571</td>\n",
       "      <td>0.000000</td>\n",
       "      <td>0.375</td>\n",
       "    </tr>\n",
       "    <tr>\n",
       "      <th>5</th>\n",
       "      <td>debt</td>\n",
       "      <td>500</td>\n",
       "      <td>0.000000</td>\n",
       "      <td>0.428571</td>\n",
       "      <td>0.375</td>\n",
       "    </tr>\n",
       "    <tr>\n",
       "      <th>6</th>\n",
       "      <td>debt</td>\n",
       "      <td>1000</td>\n",
       "      <td>0.333333</td>\n",
       "      <td>0.000000</td>\n",
       "      <td>0.250</td>\n",
       "    </tr>\n",
       "    <tr>\n",
       "      <th>7</th>\n",
       "      <td>debt</td>\n",
       "      <td>2000</td>\n",
       "      <td>0.428571</td>\n",
       "      <td>0.000000</td>\n",
       "      <td>0.375</td>\n",
       "    </tr>\n",
       "  </tbody>\n",
       "</table>\n",
       "</div>"
      ],
      "text/plain": [
       "  Feature     T  impurity_left  impurity_right  mean_impurity\n",
       "0  assets  2000       0.000000        0.333333          0.250\n",
       "1  assets  3000       0.000000        0.200000          0.125\n",
       "2  assets  4000       0.250000        0.250000          0.250\n",
       "3  assets  5000       0.500000        0.500000          0.500\n",
       "4  assets  8000       0.428571        0.000000          0.375\n",
       "5    debt   500       0.000000        0.428571          0.375\n",
       "6    debt  1000       0.333333        0.000000          0.250\n",
       "7    debt  2000       0.428571        0.000000          0.375"
      ]
     },
     "execution_count": 78,
     "metadata": {},
     "output_type": "execute_result"
    }
   ],
   "source": [
    "thresholds = {\n",
    "    \"assets\": [2000, 3000, 4000, 5000, 8000],\n",
    "    \"debt\": [500, 1000, 2000],\n",
    "}\n",
    "ls_out = []\n",
    "for feature, Ts in thresholds.items():\n",
    "    for T in Ts:\n",
    "        df_left = df_example[df_example[feature] <= T]\n",
    "        df_right = df_example[df_example[feature] > T]\n",
    "        # Estimate missclassification rate for each split\n",
    "        decision_left = df_left.status.mode()[0]\n",
    "        impurity_left = 1 - (df_left.status == decision_left).mean()\n",
    "        decision_right = df_right.status.mode()[0]\n",
    "        impurity_right = 1 - (df_right.status == decision_right).mean()\n",
    "        mean_impurity = (\n",
    "            len(df_left) * impurity_left + len(df_right) * impurity_right\n",
    "        ) / len(df_example)\n",
    "        # Append list of results to dataframe\n",
    "        ls_out.append(\n",
    "            {\n",
    "                \"Feature\": feature,\n",
    "                \"T\": T,\n",
    "                \"impurity_left\": impurity_left,\n",
    "                \"impurity_right\": impurity_right,\n",
    "                \"mean_impurity\": mean_impurity,\n",
    "            }\n",
    "        )\n",
    "df_out = pd.DataFrame(ls_out)\n",
    "df_out"
   ]
  },
  {
   "cell_type": "markdown",
   "metadata": {},
   "source": [
    "### Finding the best split for the entire dataset\n",
    "\n",
    "For each feature in the dataset, the algorithm looks for the best split. It then selects the feature and the split that produce the purest subsets (weighted by their size). The subset that is the purest (has the lowest impurity) is selected to make the split, and the algorithm moves on to the next level, repeating the process until it reaches the maximum depth (defined by the max_depth hyperparameter), or it cannot find a split that will reduce impurity. \n",
    "\n",
    "### Stopping criteria\n",
    "\n",
    "- Maximum depth: The maximum depth of a decision tree is defined by the max_depth hyperparameter. Reducing max_depth will regularize the model and thus reduce the risk of overfitting.\n",
    "- Minimum number of samples per leaf node: The min_samples_leaf hyperparameter controls the minimum number of samples that a leaf node can have. If a split results in a leaf node with fewer samples than min_samples_leaf, the split is discarded.\n",
    "- Maximum number of leaf nodes: The max_leaf_nodes hyperparameter controls the maximum number of leaf nodes. Reducing this number will regularize the model.\n",
    "- Minimum impurity split: The min_impurity_split hyperparameter threshold for early stopping based on a node's impurity. A split is evaluated only if it decreases the impurity by at least this threshold. Reducing this threshold will regularize the model.\n",
    "\n",
    "### Decision tree learning algorithm\n",
    "\n",
    "- Start at the root node, which contains the entire dataset.\n",
    "- Find the best split for the entire dataset.\n",
    "- Split the dataset into two subsets using the best split.\n",
    "- Repeat the process on each subset until you reach the maximum depth, or until it cannot find a split that will reduce impurity."
   ]
  },
  {
   "cell_type": "markdown",
   "metadata": {},
   "source": [
    "## Decision trees parameter tuning\n",
    "\n",
    "- Selecting max_depth\n",
    "- Selecting min_samples_leaf"
   ]
  },
  {
   "cell_type": "code",
   "execution_count": 81,
   "metadata": {},
   "outputs": [
    {
     "name": "stdout",
     "output_type": "stream",
     "text": [
      "   1 --> 0.606\n",
      "   2 --> 0.669\n",
      "   3 --> 0.739\n",
      "   4 --> 0.761\n",
      "   5 --> 0.767\n",
      "   6 --> 0.754\n",
      "  10 --> 0.686\n",
      "  15 --> 0.674\n",
      "  20 --> 0.666\n",
      "None --> 0.662\n"
     ]
    }
   ],
   "source": [
    "for d in [1, 2, 3, 4, 5, 6, 10, 15, 20, None]:\n",
    "    dt = DecisionTreeClassifier(max_depth=d)\n",
    "    dt.fit(X_train, y_train)\n",
    "    y_pred = dt.predict_proba(X_val)[:, 1]\n",
    "    auc = roc_auc_score(y_val, y_pred)\n",
    "    print(\"%4s --> %.3f\" % (d, auc))"
   ]
  },
  {
   "cell_type": "code",
   "execution_count": 92,
   "metadata": {},
   "outputs": [
    {
     "data": {
      "text/html": [
       "<div>\n",
       "<style scoped>\n",
       "    .dataframe tbody tr th:only-of-type {\n",
       "        vertical-align: middle;\n",
       "    }\n",
       "\n",
       "    .dataframe tbody tr th {\n",
       "        vertical-align: top;\n",
       "    }\n",
       "\n",
       "    .dataframe thead th {\n",
       "        text-align: right;\n",
       "    }\n",
       "</style>\n",
       "<table border=\"1\" class=\"dataframe\">\n",
       "  <thead>\n",
       "    <tr style=\"text-align: right;\">\n",
       "      <th></th>\n",
       "      <th>max_depth</th>\n",
       "      <th>min_samples_leaf</th>\n",
       "      <th>auc</th>\n",
       "    </tr>\n",
       "  </thead>\n",
       "  <tbody>\n",
       "    <tr>\n",
       "      <th>40</th>\n",
       "      <td>10.0</td>\n",
       "      <td>15</td>\n",
       "      <td>0.789779</td>\n",
       "    </tr>\n",
       "    <tr>\n",
       "      <th>67</th>\n",
       "      <td>NaN</td>\n",
       "      <td>15</td>\n",
       "      <td>0.787823</td>\n",
       "    </tr>\n",
       "    <tr>\n",
       "      <th>49</th>\n",
       "      <td>15.0</td>\n",
       "      <td>15</td>\n",
       "      <td>0.787393</td>\n",
       "    </tr>\n",
       "    <tr>\n",
       "      <th>22</th>\n",
       "      <td>6.0</td>\n",
       "      <td>15</td>\n",
       "      <td>0.785319</td>\n",
       "    </tr>\n",
       "    <tr>\n",
       "      <th>58</th>\n",
       "      <td>20.0</td>\n",
       "      <td>15</td>\n",
       "      <td>0.785135</td>\n",
       "    </tr>\n",
       "  </tbody>\n",
       "</table>\n",
       "</div>"
      ],
      "text/plain": [
       "    max_depth  min_samples_leaf       auc\n",
       "40       10.0                15  0.789779\n",
       "67        NaN                15  0.787823\n",
       "49       15.0                15  0.787393\n",
       "22        6.0                15  0.785319\n",
       "58       20.0                15  0.785135"
      ]
     },
     "execution_count": 92,
     "metadata": {},
     "output_type": "execute_result"
    }
   ],
   "source": [
    "scores = []\n",
    "for d in [4, 5, 6, 7, 10, 15, 20, None]:\n",
    "    for s in [1, 2, 5, 10, 15, 20, 50, 100, 200]:\n",
    "        dt = DecisionTreeClassifier(max_depth=d, min_samples_leaf=s)\n",
    "        dt.fit(X_train, y_train)\n",
    "        y_pred = dt.predict_proba(X_val)[:, 1]\n",
    "        auc = roc_auc_score(y_val, y_pred)\n",
    "        scores.append({\"max_depth\": d, \"min_samples_leaf\": s, \"auc\": auc})\n",
    "df_scores = pd.DataFrame(scores)\n",
    "df_scores.sort_values(\"auc\", ascending=False).head()"
   ]
  },
  {
   "cell_type": "code",
   "execution_count": 93,
   "metadata": {},
   "outputs": [
    {
     "data": {
      "text/html": [
       "<div>\n",
       "<style scoped>\n",
       "    .dataframe tbody tr th:only-of-type {\n",
       "        vertical-align: middle;\n",
       "    }\n",
       "\n",
       "    .dataframe tbody tr th {\n",
       "        vertical-align: top;\n",
       "    }\n",
       "\n",
       "    .dataframe thead th {\n",
       "        text-align: right;\n",
       "    }\n",
       "</style>\n",
       "<table border=\"1\" class=\"dataframe\">\n",
       "  <thead>\n",
       "    <tr style=\"text-align: right;\">\n",
       "      <th>max_depth</th>\n",
       "      <th>NaN</th>\n",
       "      <th>4.0</th>\n",
       "      <th>5.0</th>\n",
       "      <th>6.0</th>\n",
       "      <th>7.0</th>\n",
       "      <th>10.0</th>\n",
       "      <th>15.0</th>\n",
       "      <th>20.0</th>\n",
       "    </tr>\n",
       "    <tr>\n",
       "      <th>min_samples_leaf</th>\n",
       "      <th></th>\n",
       "      <th></th>\n",
       "      <th></th>\n",
       "      <th></th>\n",
       "      <th></th>\n",
       "      <th></th>\n",
       "      <th></th>\n",
       "      <th></th>\n",
       "    </tr>\n",
       "  </thead>\n",
       "  <tbody>\n",
       "    <tr>\n",
       "      <th>1</th>\n",
       "      <td>0.658</td>\n",
       "      <td>0.761</td>\n",
       "      <td>0.766</td>\n",
       "      <td>0.747</td>\n",
       "      <td>0.743</td>\n",
       "      <td>0.699</td>\n",
       "      <td>0.661</td>\n",
       "      <td>0.650</td>\n",
       "    </tr>\n",
       "    <tr>\n",
       "      <th>2</th>\n",
       "      <td>0.689</td>\n",
       "      <td>0.761</td>\n",
       "      <td>0.766</td>\n",
       "      <td>0.755</td>\n",
       "      <td>0.756</td>\n",
       "      <td>0.720</td>\n",
       "      <td>0.685</td>\n",
       "      <td>0.692</td>\n",
       "    </tr>\n",
       "    <tr>\n",
       "      <th>5</th>\n",
       "      <td>0.720</td>\n",
       "      <td>0.761</td>\n",
       "      <td>0.768</td>\n",
       "      <td>0.762</td>\n",
       "      <td>0.757</td>\n",
       "      <td>0.731</td>\n",
       "      <td>0.714</td>\n",
       "      <td>0.718</td>\n",
       "    </tr>\n",
       "    <tr>\n",
       "      <th>10</th>\n",
       "      <td>0.761</td>\n",
       "      <td>0.761</td>\n",
       "      <td>0.762</td>\n",
       "      <td>0.778</td>\n",
       "      <td>0.765</td>\n",
       "      <td>0.768</td>\n",
       "      <td>0.765</td>\n",
       "      <td>0.761</td>\n",
       "    </tr>\n",
       "    <tr>\n",
       "      <th>15</th>\n",
       "      <td>0.788</td>\n",
       "      <td>0.764</td>\n",
       "      <td>0.772</td>\n",
       "      <td>0.785</td>\n",
       "      <td>0.780</td>\n",
       "      <td>0.790</td>\n",
       "      <td>0.787</td>\n",
       "      <td>0.785</td>\n",
       "    </tr>\n",
       "    <tr>\n",
       "      <th>20</th>\n",
       "      <td>0.785</td>\n",
       "      <td>0.761</td>\n",
       "      <td>0.774</td>\n",
       "      <td>0.773</td>\n",
       "      <td>0.781</td>\n",
       "      <td>0.785</td>\n",
       "      <td>0.781</td>\n",
       "      <td>0.782</td>\n",
       "    </tr>\n",
       "    <tr>\n",
       "      <th>50</th>\n",
       "      <td>0.776</td>\n",
       "      <td>0.753</td>\n",
       "      <td>0.768</td>\n",
       "      <td>0.772</td>\n",
       "      <td>0.776</td>\n",
       "      <td>0.778</td>\n",
       "      <td>0.776</td>\n",
       "      <td>0.776</td>\n",
       "    </tr>\n",
       "    <tr>\n",
       "      <th>100</th>\n",
       "      <td>0.780</td>\n",
       "      <td>0.756</td>\n",
       "      <td>0.763</td>\n",
       "      <td>0.776</td>\n",
       "      <td>0.780</td>\n",
       "      <td>0.779</td>\n",
       "      <td>0.779</td>\n",
       "      <td>0.779</td>\n",
       "    </tr>\n",
       "    <tr>\n",
       "      <th>200</th>\n",
       "      <td>0.768</td>\n",
       "      <td>0.747</td>\n",
       "      <td>0.759</td>\n",
       "      <td>0.768</td>\n",
       "      <td>0.768</td>\n",
       "      <td>0.768</td>\n",
       "      <td>0.768</td>\n",
       "      <td>0.768</td>\n",
       "    </tr>\n",
       "  </tbody>\n",
       "</table>\n",
       "</div>"
      ],
      "text/plain": [
       "max_depth          NaN    4.0    5.0    6.0    7.0    10.0   15.0   20.0\n",
       "min_samples_leaf                                                        \n",
       "1                 0.658  0.761  0.766  0.747  0.743  0.699  0.661  0.650\n",
       "2                 0.689  0.761  0.766  0.755  0.756  0.720  0.685  0.692\n",
       "5                 0.720  0.761  0.768  0.762  0.757  0.731  0.714  0.718\n",
       "10                0.761  0.761  0.762  0.778  0.765  0.768  0.765  0.761\n",
       "15                0.788  0.764  0.772  0.785  0.780  0.790  0.787  0.785\n",
       "20                0.785  0.761  0.774  0.773  0.781  0.785  0.781  0.782\n",
       "50                0.776  0.753  0.768  0.772  0.776  0.778  0.776  0.776\n",
       "100               0.780  0.756  0.763  0.776  0.780  0.779  0.779  0.779\n",
       "200               0.768  0.747  0.759  0.768  0.768  0.768  0.768  0.768"
      ]
     },
     "execution_count": 93,
     "metadata": {},
     "output_type": "execute_result"
    }
   ],
   "source": [
    "df_scores_pivot = df_scores.pivot(\n",
    "    index=\"min_samples_leaf\", columns=\"max_depth\", values=\"auc\"\n",
    ")\n",
    "df_scores_pivot.round(3)"
   ]
  },
  {
   "cell_type": "code",
   "execution_count": 94,
   "metadata": {},
   "outputs": [
    {
     "data": {
      "text/plain": [
       "<Axes: xlabel='max_depth', ylabel='min_samples_leaf'>"
      ]
     },
     "execution_count": 94,
     "metadata": {},
     "output_type": "execute_result"
    },
    {
     "data": {
      "image/png": "[encoded data removed]",
      "text/plain": [
       "<Figure size 640x480 with 2 Axes>"
      ]
     },
     "metadata": {},
     "output_type": "display_data"
    }
   ],
   "source": [
    "sns.heatmap(df_scores_pivot, annot=True, fmt=\".3f\")"
   ]
  },
  {
   "cell_type": "code",
   "execution_count": 95,
   "metadata": {},
   "outputs": [
    {
     "data": {
      "text/html": [
       "<style>#sk-container-id-12 {color: black;}#sk-container-id-12 pre{padding: 0;}#sk-container-id-12 div.sk-toggleable {background-color: white;}#sk-container-id-12 label.sk-toggleable__label {cursor: pointer;display: block;width: 100%;margin-bottom: 0;padding: 0.3em;box-sizing: border-box;text-align: center;}#sk-container-id-12 label.sk-toggleable__label-arrow:before {content: \"▸\";float: left;margin-right: 0.25em;color: #696969;}#sk-container-id-12 label.sk-toggleable__label-arrow:hover:before {color: black;}#sk-container-id-12 div.sk-estimator:hover label.sk-toggleable__label-arrow:before {color: black;}#sk-container-id-12 div.sk-toggleable__content {max-height: 0;max-width: 0;overflow: hidden;text-align: left;background-color: #f0f8ff;}#sk-container-id-12 div.sk-toggleable__content pre {margin: 0.2em;color: black;border-radius: 0.25em;background-color: #f0f8ff;}#sk-container-id-12 input.sk-toggleable__control:checked~div.sk-toggleable__content {max-height: 200px;max-width: 100%;overflow: auto;}#sk-container-id-12 input.sk-toggleable__control:checked~label.sk-toggleable__label-arrow:before {content: \"▾\";}#sk-container-id-12 div.sk-estimator input.sk-toggleable__control:checked~label.sk-toggleable__label {background-color: #d4ebff;}#sk-container-id-12 div.sk-label input.sk-toggleable__control:checked~label.sk-toggleable__label {background-color: #d4ebff;}#sk-container-id-12 input.sk-hidden--visually {border: 0;clip: rect(1px 1px 1px 1px);clip: rect(1px, 1px, 1px, 1px);height: 1px;margin: -1px;overflow: hidden;padding: 0;position: absolute;width: 1px;}#sk-container-id-12 div.sk-estimator {font-family: monospace;background-color: #f0f8ff;border: 1px dotted black;border-radius: 0.25em;box-sizing: border-box;margin-bottom: 0.5em;}#sk-container-id-12 div.sk-estimator:hover {background-color: #d4ebff;}#sk-container-id-12 div.sk-parallel-item::after {content: \"\";width: 100%;border-bottom: 1px solid gray;flex-grow: 1;}#sk-container-id-12 div.sk-label:hover label.sk-toggleable__label {background-color: #d4ebff;}#sk-container-id-12 div.sk-serial::before {content: \"\";position: absolute;border-left: 1px solid gray;box-sizing: border-box;top: 0;bottom: 0;left: 50%;z-index: 0;}#sk-container-id-12 div.sk-serial {display: flex;flex-direction: column;align-items: center;background-color: white;padding-right: 0.2em;padding-left: 0.2em;position: relative;}#sk-container-id-12 div.sk-item {position: relative;z-index: 1;}#sk-container-id-12 div.sk-parallel {display: flex;align-items: stretch;justify-content: center;background-color: white;position: relative;}#sk-container-id-12 div.sk-item::before, #sk-container-id-12 div.sk-parallel-item::before {content: \"\";position: absolute;border-left: 1px solid gray;box-sizing: border-box;top: 0;bottom: 0;left: 50%;z-index: -1;}#sk-container-id-12 div.sk-parallel-item {display: flex;flex-direction: column;z-index: 1;position: relative;background-color: white;}#sk-container-id-12 div.sk-parallel-item:first-child::after {align-self: flex-end;width: 50%;}#sk-container-id-12 div.sk-parallel-item:last-child::after {align-self: flex-start;width: 50%;}#sk-container-id-12 div.sk-parallel-item:only-child::after {width: 0;}#sk-container-id-12 div.sk-dashed-wrapped {border: 1px dashed gray;margin: 0 0.4em 0.5em 0.4em;box-sizing: border-box;padding-bottom: 0.4em;background-color: white;}#sk-container-id-12 div.sk-label label {font-family: monospace;font-weight: bold;display: inline-block;line-height: 1.2em;}#sk-container-id-12 div.sk-label-container {text-align: center;}#sk-container-id-12 div.sk-container {/* jupyter's `normalize.less` sets `[hidden] { display: none; }` but bootstrap.min.css set `[hidden] { display: none !important; }` so we also need the `!important` here to be able to override the default hidden behavior on the sphinx rendered scikit-learn.org. See: https://github.com/scikit-learn/scikit-learn/issues/21755 */display: inline-block !important;position: relative;}#sk-container-id-12 div.sk-text-repr-fallback {display: none;}</style><div id=\"sk-container-id-12\" class=\"sk-top-container\"><div class=\"sk-text-repr-fallback\"><pre>DecisionTreeClassifier(max_depth=6, min_samples_leaf=15)</pre><b>In a Jupyter environment, please rerun this cell to show the HTML representation or trust the notebook. <br />On GitHub, the HTML representation is unable to render, please try loading this page with nbviewer.org.</b></div><div class=\"sk-container\" hidden><div class=\"sk-item\"><div class=\"sk-estimator sk-toggleable\"><input class=\"sk-toggleable__control sk-hidden--visually\" id=\"sk-estimator-id-12\" type=\"checkbox\" checked><label for=\"sk-estimator-id-12\" class=\"sk-toggleable__label sk-toggleable__label-arrow\">DecisionTreeClassifier</label><div class=\"sk-toggleable__content\"><pre>DecisionTreeClassifier(max_depth=6, min_samples_leaf=15)</pre></div></div></div></div></div>"
      ],
      "text/plain": [
       "DecisionTreeClassifier(max_depth=6, min_samples_leaf=15)"
      ]
     },
     "execution_count": 95,
     "metadata": {},
     "output_type": "execute_result"
    }
   ],
   "source": [
    "dt = DecisionTreeClassifier(max_depth=6, min_samples_leaf=15)\n",
    "dt.fit(X_train, y_train)"
   ]
  },
  {
   "cell_type": "markdown",
   "metadata": {},
   "source": [
    "## Ensembles and random forest\n",
    "\n",
    "- Board of experts: it is random because each expert is trained on a random subset of the training data. And it is a forest because it is composed of many trees. \n",
    "- Ensembling models: the idea is to train several models on the same dataset, and then to combine their predictions. The combined predictions are usually better than the predictions of any individual model because the models complement each other. This is called ensembling.\n",
    "- Random forest - ensembling decision trees: the random forest algorithm is an ensemble of decision trees. It is a collection of decision trees that have been trained on random subsets of the training data using random subsets of the features. The predictions of all the trees are then averaged to produce the final prediction.\n",
    "- Tuning random forest: the random forest algorithm has many hyperparameters that you can tune. The most important ones are:\n",
    "    - n_estimators: The n_estimators hyperparameter controls the number of trees in the forest. Increasing n_estimators will reduce overfitting.\n",
    "    - max_depth: The max_depth hyperparameter controls the maximum depth of each tree in the forest. Reducing max_depth will reduce overfitting.\n",
    "    - min_samples_leaf: The min_samples_leaf hyperparameter controls the minimum number of samples that a leaf node can have. Increasing min_samples_leaf will reduce overfitting.\n",
    "    - max_features: The max_features hyperparameter controls the number of features that are randomly selected for each split. Increasing max_features will reduce overfitting.\n",
    "    - bootstrap: The bootstrap hyperparameter controls whether the subsets are created using sampling with replacement (when set to True), or without replacement (when set to False). Setting bootstrap to False will generally reduce overfitting."
   ]
  },
  {
   "cell_type": "code",
   "execution_count": 97,
   "metadata": {},
   "outputs": [
    {
     "data": {
      "text/plain": [
       "0.7744726453706618"
      ]
     },
     "execution_count": 97,
     "metadata": {},
     "output_type": "execute_result"
    }
   ],
   "source": [
    "rf = RandomForestClassifier(n_estimators=10, random_state=1)\n",
    "rf.fit(X_train, y_train)\n",
    "y_pred = rf.predict_proba(X_val)[:, 1]\n",
    "roc_auc_score(y_val, y_pred)"
   ]
  },
  {
   "cell_type": "code",
   "execution_count": 100,
   "metadata": {},
   "outputs": [
    {
     "data": {
      "text/html": [
       "<div>\n",
       "<style scoped>\n",
       "    .dataframe tbody tr th:only-of-type {\n",
       "        vertical-align: middle;\n",
       "    }\n",
       "\n",
       "    .dataframe tbody tr th {\n",
       "        vertical-align: top;\n",
       "    }\n",
       "\n",
       "    .dataframe thead th {\n",
       "        text-align: right;\n",
       "    }\n",
       "</style>\n",
       "<table border=\"1\" class=\"dataframe\">\n",
       "  <thead>\n",
       "    <tr style=\"text-align: right;\">\n",
       "      <th></th>\n",
       "      <th>n_estimators</th>\n",
       "      <th>auc</th>\n",
       "    </tr>\n",
       "  </thead>\n",
       "  <tbody>\n",
       "    <tr>\n",
       "      <th>19</th>\n",
       "      <td>200</td>\n",
       "      <td>0.819050</td>\n",
       "    </tr>\n",
       "    <tr>\n",
       "      <th>12</th>\n",
       "      <td>130</td>\n",
       "      <td>0.818253</td>\n",
       "    </tr>\n",
       "    <tr>\n",
       "      <th>13</th>\n",
       "      <td>140</td>\n",
       "      <td>0.818102</td>\n",
       "    </tr>\n",
       "    <tr>\n",
       "      <th>18</th>\n",
       "      <td>190</td>\n",
       "      <td>0.817981</td>\n",
       "    </tr>\n",
       "    <tr>\n",
       "      <th>15</th>\n",
       "      <td>160</td>\n",
       "      <td>0.817981</td>\n",
       "    </tr>\n",
       "  </tbody>\n",
       "</table>\n",
       "</div>"
      ],
      "text/plain": [
       "    n_estimators       auc\n",
       "19           200  0.819050\n",
       "12           130  0.818253\n",
       "13           140  0.818102\n",
       "18           190  0.817981\n",
       "15           160  0.817981"
      ]
     },
     "execution_count": 100,
     "metadata": {},
     "output_type": "execute_result"
    }
   ],
   "source": [
    "scores = []\n",
    "for n in range(10, 201, 10):\n",
    "    rf = RandomForestClassifier(n_estimators=n, random_state=1)\n",
    "    rf.fit(X_train, y_train)\n",
    "    y_pred = rf.predict_proba(X_val)[:, 1]\n",
    "    auc = roc_auc_score(y_val, y_pred)\n",
    "    scores.append({\"n_estimators\": n, \"auc\": auc})\n",
    "df_scores = pd.DataFrame(scores)\n",
    "df_scores.sort_values(\"auc\", ascending=False).head()"
   ]
  },
  {
   "cell_type": "code",
   "execution_count": 99,
   "metadata": {},
   "outputs": [
    {
     "data": {
      "text/plain": [
       "[<matplotlib.lines.Line2D at 0x1b5c54892b0>]"
      ]
     },
     "execution_count": 99,
     "metadata": {},
     "output_type": "execute_result"
    },
    {
     "data": {
      "image/png": "[encoded data removed]",
      "text/plain": [
       "<Figure size 640x480 with 1 Axes>"
      ]
     },
     "metadata": {},
     "output_type": "display_data"
    }
   ],
   "source": [
    "plt.plot(df_scores.n_estimators, df_scores.auc)"
   ]
  },
  {
   "cell_type": "code",
   "execution_count": 101,
   "metadata": {},
   "outputs": [
    {
     "data": {
      "text/html": [
       "<div>\n",
       "<style scoped>\n",
       "    .dataframe tbody tr th:only-of-type {\n",
       "        vertical-align: middle;\n",
       "    }\n",
       "\n",
       "    .dataframe tbody tr th {\n",
       "        vertical-align: top;\n",
       "    }\n",
       "\n",
       "    .dataframe thead th {\n",
       "        text-align: right;\n",
       "    }\n",
       "</style>\n",
       "<table border=\"1\" class=\"dataframe\">\n",
       "  <thead>\n",
       "    <tr style=\"text-align: right;\">\n",
       "      <th></th>\n",
       "      <th>max_depth</th>\n",
       "      <th>n_estimators</th>\n",
       "      <th>auc</th>\n",
       "    </tr>\n",
       "  </thead>\n",
       "  <tbody>\n",
       "    <tr>\n",
       "      <th>35</th>\n",
       "      <td>10</td>\n",
       "      <td>160</td>\n",
       "      <td>0.825243</td>\n",
       "    </tr>\n",
       "    <tr>\n",
       "      <th>39</th>\n",
       "      <td>10</td>\n",
       "      <td>200</td>\n",
       "      <td>0.824923</td>\n",
       "    </tr>\n",
       "    <tr>\n",
       "      <th>37</th>\n",
       "      <td>10</td>\n",
       "      <td>180</td>\n",
       "      <td>0.824801</td>\n",
       "    </tr>\n",
       "    <tr>\n",
       "      <th>36</th>\n",
       "      <td>10</td>\n",
       "      <td>170</td>\n",
       "      <td>0.824632</td>\n",
       "    </tr>\n",
       "    <tr>\n",
       "      <th>38</th>\n",
       "      <td>10</td>\n",
       "      <td>190</td>\n",
       "      <td>0.824535</td>\n",
       "    </tr>\n",
       "  </tbody>\n",
       "</table>\n",
       "</div>"
      ],
      "text/plain": [
       "    max_depth  n_estimators       auc\n",
       "35         10           160  0.825243\n",
       "39         10           200  0.824923\n",
       "37         10           180  0.824801\n",
       "36         10           170  0.824632\n",
       "38         10           190  0.824535"
      ]
     },
     "execution_count": 101,
     "metadata": {},
     "output_type": "execute_result"
    }
   ],
   "source": [
    "scores = []\n",
    "for d in [5, 10, 15]:\n",
    "    for n in range(10, 201, 10):\n",
    "        rf = RandomForestClassifier(max_depth=d, n_estimators=n, random_state=1)\n",
    "        rf.fit(X_train, y_train)\n",
    "        y_pred = rf.predict_proba(X_val)[:, 1]\n",
    "        auc = roc_auc_score(y_val, y_pred)\n",
    "        scores.append({\"max_depth\": d, \"n_estimators\": n, \"auc\": auc})\n",
    "df_scores = pd.DataFrame(scores)\n",
    "df_scores.sort_values(\"auc\", ascending=False).head()"
   ]
  },
  {
   "cell_type": "code",
   "execution_count": 104,
   "metadata": {},
   "outputs": [
    {
     "data": {
      "text/plain": [
       "<matplotlib.legend.Legend at 0x1b5c553be20>"
      ]
     },
     "execution_count": 104,
     "metadata": {},
     "output_type": "execute_result"
    },
    {
     "data": {
      "image/png": "[encoded data removed]",
      "text/plain": [
       "<Figure size 640x480 with 1 Axes>"
      ]
     },
     "metadata": {},
     "output_type": "display_data"
    }
   ],
   "source": [
    "for d in [5, 10, 15]:\n",
    "    df_subset = df_scores[df_scores.max_depth == d]\n",
    "    plt.plot(df_subset.n_estimators, df_subset.auc, label=\"max_depth=%d\" % d)\n",
    "plt.legend()"
   ]
  },
  {
   "cell_type": "code",
   "execution_count": null,
   "metadata": {},
   "outputs": [],
   "source": [
    "max_depth = 10"
   ]
  },
  {
   "cell_type": "code",
   "execution_count": 105,
   "metadata": {},
   "outputs": [
    {
     "data": {
      "text/html": [
       "<div>\n",
       "<style scoped>\n",
       "    .dataframe tbody tr th:only-of-type {\n",
       "        vertical-align: middle;\n",
       "    }\n",
       "\n",
       "    .dataframe tbody tr th {\n",
       "        vertical-align: top;\n",
       "    }\n",
       "\n",
       "    .dataframe thead th {\n",
       "        text-align: right;\n",
       "    }\n",
       "</style>\n",
       "<table border=\"1\" class=\"dataframe\">\n",
       "  <thead>\n",
       "    <tr style=\"text-align: right;\">\n",
       "      <th></th>\n",
       "      <th>min_samples_leaf</th>\n",
       "      <th>n_estimators</th>\n",
       "      <th>auc</th>\n",
       "    </tr>\n",
       "  </thead>\n",
       "  <tbody>\n",
       "    <tr>\n",
       "      <th>38</th>\n",
       "      <td>3</td>\n",
       "      <td>190</td>\n",
       "      <td>0.828719</td>\n",
       "    </tr>\n",
       "    <tr>\n",
       "      <th>39</th>\n",
       "      <td>3</td>\n",
       "      <td>200</td>\n",
       "      <td>0.828622</td>\n",
       "    </tr>\n",
       "    <tr>\n",
       "      <th>35</th>\n",
       "      <td>3</td>\n",
       "      <td>160</td>\n",
       "      <td>0.828501</td>\n",
       "    </tr>\n",
       "    <tr>\n",
       "      <th>37</th>\n",
       "      <td>3</td>\n",
       "      <td>180</td>\n",
       "      <td>0.827859</td>\n",
       "    </tr>\n",
       "    <tr>\n",
       "      <th>34</th>\n",
       "      <td>3</td>\n",
       "      <td>150</td>\n",
       "      <td>0.827823</td>\n",
       "    </tr>\n",
       "  </tbody>\n",
       "</table>\n",
       "</div>"
      ],
      "text/plain": [
       "    min_samples_leaf  n_estimators       auc\n",
       "38                 3           190  0.828719\n",
       "39                 3           200  0.828622\n",
       "35                 3           160  0.828501\n",
       "37                 3           180  0.827859\n",
       "34                 3           150  0.827823"
      ]
     },
     "execution_count": 105,
     "metadata": {},
     "output_type": "execute_result"
    }
   ],
   "source": [
    "scores = []\n",
    "for s in [1, 3, 5, 10, 50]:\n",
    "    for n in range(10, 201, 10):\n",
    "        rf = RandomForestClassifier(\n",
    "            max_depth=d, n_estimators=n, min_samples_leaf=s, random_state=1\n",
    "        )\n",
    "        rf.fit(X_train, y_train)\n",
    "        y_pred = rf.predict_proba(X_val)[:, 1]\n",
    "        auc = roc_auc_score(y_val, y_pred)\n",
    "        scores.append({\"min_samples_leaf\": s, \"n_estimators\": n, \"auc\": auc})\n",
    "df_scores = pd.DataFrame(scores)\n",
    "df_scores.sort_values(\"auc\", ascending=False).head()"
   ]
  },
  {
   "cell_type": "code",
   "execution_count": 108,
   "metadata": {},
   "outputs": [
    {
     "data": {
      "text/plain": [
       "<matplotlib.legend.Legend at 0x1b5c5711100>"
      ]
     },
     "execution_count": 108,
     "metadata": {},
     "output_type": "execute_result"
    },
    {
     "data": {
      "image/png": "[encoded data removed]",
      "text/plain": [
       "<Figure size 640x480 with 1 Axes>"
      ]
     },
     "metadata": {},
     "output_type": "display_data"
    }
   ],
   "source": [
    "colors = [\"black\", \"blue\", \"orange\", \"green\", \"red\"]\n",
    "min_samples_leaf_values = [1, 3, 5, 10, 50]\n",
    "for s, color in zip(min_samples_leaf_values, colors):\n",
    "    df_subset = df_scores[df_scores.min_samples_leaf == s]\n",
    "    plt.plot(\n",
    "        df_subset.n_estimators,\n",
    "        df_subset.auc,\n",
    "        label=\"min_samples_leaf=%d\" % s,\n",
    "        color=color,\n",
    "    )\n",
    "plt.legend()"
   ]
  },
  {
   "cell_type": "code",
   "execution_count": 109,
   "metadata": {},
   "outputs": [
    {
     "data": {
      "text/plain": [
       "0.8233361991717324"
      ]
     },
     "execution_count": 109,
     "metadata": {},
     "output_type": "execute_result"
    }
   ],
   "source": [
    "rf = RandomForestClassifier(\n",
    "    max_depth=10,\n",
    "    n_estimators=100,\n",
    "    min_samples_leaf=3,\n",
    "    random_state=1,\n",
    ")\n",
    "rf.fit(X_train, y_train)\n",
    "y_pred = rf.predict_proba(X_val)[:, 1]\n",
    "auc = roc_auc_score(y_val, y_pred)\n",
    "auc"
   ]
  },
  {
   "cell_type": "markdown",
   "metadata": {},
   "source": [
    "## Gradient boosting and XGBoost\n",
    "\n",
    "### Gradient boosting vs random forest\n",
    "\n",
    "The main difference between gradient boosting and random forest is that gradient boosting is an additive model, while random forest is a parallel model. In gradient boosting, each tree is built on the errors of the previous tree. In random forest, all trees are built independently of each other. XGboost is an optimized implementation of gradient boosting in Python.\n",
    "\n",
    "In detail, the gradient boosting algorithm works as follows:\n",
    "- Start with a single decision tree.\n",
    "- Find the errors of the decision tree.\n",
    "- Build a new decision tree that will predict the errors of the previous tree.\n",
    "- Add the new decision tree to the ensemble.\n",
    "- Repeat steps 2 to 4 until the ensemble is good enough.\n",
    "\n",
    "The objective function of a XGBoost model is the sum of two terms: the loss term and the regularization term. The loss term measures how predictive the model is on the training data. The regularization term penalizes the complexity of the model, to avoid overfitting. The objective function is minimized to find the best model. This is done using gradient descent optimization. At each iteration, XGBoost fits a tree to the gradient loss function, effectively reducing the residuals (errors) from the previous trees."
   ]
  },
  {
   "cell_type": "code",
   "execution_count": 110,
   "metadata": {},
   "outputs": [
    {
     "name": "stdout",
     "output_type": "stream",
     "text": [
      "Collecting xgboost\n",
      "  Obtaining dependency information for xgboost from https://files.pythonhosted.org/packages/32/10/4689bda37403f7dd029d550c4446e0097c2f33b8ae877b235e76d5c49bc2/xgboost-2.0.0-py3-none-win_amd64.whl.metadata\n",
      "  Downloading xgboost-2.0.0-py3-none-win_amd64.whl.metadata (2.0 kB)\n",
      "Requirement already satisfied: numpy in c:\\users\\aarro\\anaconda3\\envs\\ml-zoomcamp\\lib\\site-packages (from xgboost) (1.25.2)\n",
      "Requirement already satisfied: scipy in c:\\users\\aarro\\anaconda3\\envs\\ml-zoomcamp\\lib\\site-packages (from xgboost) (1.11.1)\n",
      "Downloading xgboost-2.0.0-py3-none-win_amd64.whl (99.7 MB)\n",
      "   ---------------------------------------- 0.0/99.7 MB ? eta -:--:--\n",
      "   ---------------------------------------- 0.0/99.7 MB ? eta -:--:--\n",
      "   ---------------------------------------- 0.0/99.7 MB 393.8 kB/s eta 0:04:14\n",
      "   ---------------------------------------- 0.1/99.7 MB 1.1 MB/s eta 0:01:34\n",
      "   ---------------------------------------- 0.4/99.7 MB 2.3 MB/s eta 0:00:43\n",
      "   ---------------------------------------- 1.1/99.7 MB 5.0 MB/s eta 0:00:20\n",
      "    --------------------------------------- 2.2/99.7 MB 8.2 MB/s eta 0:00:12\n",
      "   - -------------------------------------- 3.6/99.7 MB 11.6 MB/s eta 0:00:09\n",
      "   -- ------------------------------------- 5.2/99.7 MB 14.5 MB/s eta 0:00:07\n",
      "   -- ------------------------------------- 6.8/99.7 MB 16.7 MB/s eta 0:00:06\n",
      "   --- ------------------------------------ 8.6/99.7 MB 19.6 MB/s eta 0:00:05\n",
      "   --- ------------------------------------ 9.6/99.7 MB 20.4 MB/s eta 0:00:05\n",
      "   ---- ----------------------------------- 10.0/99.7 MB 18.8 MB/s eta 0:00:05\n",
      "   ---- ----------------------------------- 11.4/99.7 MB 28.4 MB/s eta 0:00:04\n",
      "   ----- ---------------------------------- 12.6/99.7 MB 28.4 MB/s eta 0:00:04\n",
      "   ----- ---------------------------------- 14.3/99.7 MB 28.5 MB/s eta 0:00:03\n",
      "   ------ --------------------------------- 16.3/99.7 MB 29.8 MB/s eta 0:00:03\n",
      "   ------- -------------------------------- 18.7/99.7 MB 31.2 MB/s eta 0:00:03\n",
      "   -------- ------------------------------- 20.9/99.7 MB 40.9 MB/s eta 0:00:02\n",
      "   --------- ------------------------------ 23.1/99.7 MB 46.7 MB/s eta 0:00:02\n",
      "   ---------- ----------------------------- 25.5/99.7 MB 50.4 MB/s eta 0:00:02\n",
      "   ----------- ---------------------------- 28.1/99.7 MB 50.4 MB/s eta 0:00:02\n",
      "   ------------ --------------------------- 30.7/99.7 MB 54.4 MB/s eta 0:00:02\n",
      "   ------------- -------------------------- 32.9/99.7 MB 50.4 MB/s eta 0:00:02\n",
      "   -------------- ------------------------- 35.5/99.7 MB 50.4 MB/s eta 0:00:02\n",
      "   --------------- ------------------------ 37.7/99.7 MB 50.4 MB/s eta 0:00:02\n",
      "   ---------------- ----------------------- 40.2/99.7 MB 54.7 MB/s eta 0:00:02\n",
      "   ----------------- ---------------------- 42.6/99.7 MB 54.7 MB/s eta 0:00:02\n",
      "   ------------------ --------------------- 45.5/99.7 MB 50.4 MB/s eta 0:00:02\n",
      "   ------------------- -------------------- 48.8/99.7 MB 65.6 MB/s eta 0:00:01\n",
      "   -------------------- ------------------- 51.9/99.7 MB 65.6 MB/s eta 0:00:01\n",
      "   --------------------- ------------------ 54.0/99.7 MB 59.5 MB/s eta 0:00:01\n",
      "   ---------------------- ----------------- 55.9/99.7 MB 65.6 MB/s eta 0:00:01\n",
      "   ---------------------- ----------------- 55.9/99.7 MB 65.6 MB/s eta 0:00:01\n",
      "   ----------------------- ---------------- 57.9/99.7 MB 40.9 MB/s eta 0:00:02\n",
      "   ------------------------- -------------- 62.5/99.7 MB 46.9 MB/s eta 0:00:01\n",
      "   ------------------------- -------------- 63.6/99.7 MB 43.7 MB/s eta 0:00:01\n",
      "   -------------------------- ------------- 65.8/99.7 MB 40.9 MB/s eta 0:00:01\n",
      "   -------------------------- ------------- 67.3/99.7 MB 54.4 MB/s eta 0:00:01\n",
      "   ---------------------------- ----------- 70.2/99.7 MB 54.7 MB/s eta 0:00:01\n",
      "   ---------------------------- ----------- 72.2/99.7 MB 46.7 MB/s eta 0:00:01\n",
      "   ------------------------------ --------- 74.9/99.7 MB 50.4 MB/s eta 0:00:01\n",
      "   ------------------------------- -------- 77.4/99.7 MB 50.4 MB/s eta 0:00:01\n",
      "   ------------------------------- -------- 78.7/99.7 MB 54.7 MB/s eta 0:00:01\n",
      "   ------------------------------- -------- 79.7/99.7 MB 43.5 MB/s eta 0:00:01\n",
      "   --------------------------------- ------ 82.7/99.7 MB 46.9 MB/s eta 0:00:01\n",
      "   ---------------------------------- ----- 85.5/99.7 MB 43.7 MB/s eta 0:00:01\n",
      "   ----------------------------------- ---- 88.0/99.7 MB 43.5 MB/s eta 0:00:01\n",
      "   ------------------------------------ --- 91.1/99.7 MB 54.4 MB/s eta 0:00:01\n",
      "   ------------------------------------- -- 93.7/99.7 MB 59.5 MB/s eta 0:00:01\n",
      "   -------------------------------------- - 96.4/99.7 MB 59.8 MB/s eta 0:00:01\n",
      "   ---------------------------------------  99.3/99.7 MB 59.5 MB/s eta 0:00:01\n",
      "   ---------------------------------------  99.7/99.7 MB 59.5 MB/s eta 0:00:01\n",
      "   ---------------------------------------  99.7/99.7 MB 59.5 MB/s eta 0:00:01\n",
      "   ---------------------------------------  99.7/99.7 MB 59.5 MB/s eta 0:00:01\n",
      "   ---------------------------------------  99.7/99.7 MB 59.5 MB/s eta 0:00:01\n",
      "   ---------------------------------------  99.7/99.7 MB 59.5 MB/s eta 0:00:01\n",
      "   ---------------------------------------  99.7/99.7 MB 59.5 MB/s eta 0:00:01\n",
      "   ---------------------------------------  99.7/99.7 MB 59.5 MB/s eta 0:00:01\n",
      "   ---------------------------------------  99.7/99.7 MB 59.5 MB/s eta 0:00:01\n",
      "   ---------------------------------------  99.7/99.7 MB 59.5 MB/s eta 0:00:01\n",
      "   ---------------------------------------  99.7/99.7 MB 59.5 MB/s eta 0:00:01\n",
      "   ---------------------------------------- 99.7/99.7 MB 14.5 MB/s eta 0:00:00\n",
      "Installing collected packages: xgboost\n",
      "Successfully installed xgboost-2.0.0\n"
     ]
    }
   ],
   "source": [
    "# !pip install xgboost"
   ]
  },
  {
   "cell_type": "code",
   "execution_count": 134,
   "metadata": {},
   "outputs": [],
   "source": [
    "features = dv.feature_names_\n",
    "dtrain = xgb.DMatrix(X_train, label=y_train, feature_names=features)\n",
    "dval = xgb.DMatrix(X_val, label=y_val, feature_names=features)"
   ]
  },
  {
   "cell_type": "code",
   "execution_count": 135,
   "metadata": {},
   "outputs": [],
   "source": [
    "watchlist = [(dtrain, \"train\"), (dval, \"val\")]"
   ]
  },
  {
   "cell_type": "code",
   "execution_count": 136,
   "metadata": {},
   "outputs": [],
   "source": [
    "%%capture output\n",
    "\n",
    "xgb_params = {\n",
    "    \"eta\": 0.3,  # Learning rate\n",
    "    \"max_depth\": 6,  # Max depth of the tree\n",
    "    \"min_child_weight\": 1,  # It is similar to min_samples_leaf\n",
    "    \"objective\": \"binary:logistic\",  # It is similar to criterion\n",
    "    \"eval_metric\": \"auc\",  # It is similar to scoring\n",
    "    \"nthread\": 8,  # Number of cores\n",
    "    \"seed\": 1,\n",
    "    \"verbosity\": 1,\n",
    "}\n",
    "model = xgb.train(\n",
    "    xgb_params, dtrain, evals=watchlist, verbose_eval=5, num_boost_round=200\n",
    ")"
   ]
  },
  {
   "cell_type": "code",
   "execution_count": 167,
   "metadata": {},
   "outputs": [],
   "source": [
    "def parse_xgb_output(output):\n",
    "    # If stdout attribute doesn't exist, then take the whole output\n",
    "    if not hasattr(output, \"stdout\"):\n",
    "        output = output\n",
    "    else:\n",
    "        output = output.stdout\n",
    "    results = []\n",
    "    for line in output.strip().split(\"\\n\"):\n",
    "        it_line, train_line, val_line = line.split(\"\\t\")\n",
    "        it = int(it_line.strip(\"[]\"))\n",
    "        train = train_line.split(\":\")[1]\n",
    "        val = val_line.split(\":\")[1]\n",
    "\n",
    "        results.append(\n",
    "            {\n",
    "                \"num_iteration\": it,\n",
    "                \"train_auc\": float(train),\n",
    "                \"val_auc\": float(val),\n",
    "            }\n",
    "        )\n",
    "    return pd.DataFrame(results)"
   ]
  },
  {
   "cell_type": "code",
   "execution_count": 138,
   "metadata": {},
   "outputs": [
    {
     "data": {
      "text/plain": [
       "<matplotlib.legend.Legend at 0x1b5c5df0c10>"
      ]
     },
     "execution_count": 138,
     "metadata": {},
     "output_type": "execute_result"
    },
    {
     "data": {
      "image/png": "[encoded data removed]",
      "text/plain": [
       "<Figure size 640x480 with 1 Axes>"
      ]
     },
     "metadata": {},
     "output_type": "display_data"
    }
   ],
   "source": [
    "df_score = parse_xgb_output(output)\n",
    "plt.plot(df_score.num_iteration, df_score.train_auc, label=\"train\")\n",
    "plt.plot(df_score.num_iteration, df_score.val_auc, label=\"val\")\n",
    "plt.legend()"
   ]
  },
  {
   "cell_type": "code",
   "execution_count": 139,
   "metadata": {},
   "outputs": [
    {
     "data": {
      "text/plain": [
       "0.8072491584122448"
      ]
     },
     "execution_count": 139,
     "metadata": {},
     "output_type": "execute_result"
    }
   ],
   "source": [
    "y_pred = model.predict(dval)\n",
    "roc_auc_score(y_val, y_pred)"
   ]
  },
  {
   "cell_type": "markdown",
   "metadata": {},
   "source": [
    "## XGBoost parameter tuning\n",
    "\n",
    "The main hyperparameters of XGBoost are:\n",
    "- learning_rate: The learning rate controls how much each tree is allowed to correct the errors of the previous trees. A low learning rate will require more trees in the ensemble, but the predictions will usually be better. Reducing learning_rate will reduce overfitting.\n",
    "- max_depth: The max_depth hyperparameter controls the maximum depth of each tree in the ensemble. Reducing max_depth will reduce overfitting.\n",
    "- min_child_weight: The min_child_weight hyperparameter controls the minimum number of samples that a leaf node can have. Increasing min_child_weight will reduce overfitting.\n",
    "- subsample: The subsample hyperparameter controls the fraction of samples that is used for training each tree. Reducing subsample will reduce overfitting.\n",
    "- colsample_bytree: The colsample_bytree hyperparameter controls the fraction of features that is used for training each tree. Reducing colsample_bytree will reduce overfitting. \n",
    "- lambda: The lambda hyperparameter controls the L2 regularization term. Increasing lambda will reduce overfitting.\n",
    "- alpha: The alpha hyperparameter controls the L1 regularization term. Increasing alpha will reduce overfitting."
   ]
  },
  {
   "cell_type": "markdown",
   "metadata": {},
   "source": [
    "### Tunning Learning Rate"
   ]
  },
  {
   "cell_type": "code",
   "execution_count": 174,
   "metadata": {},
   "outputs": [],
   "source": [
    "scores = {}\n",
    "for eta in [0.01, 0.05, 0.1, 0.3, 0.5, 0.75, 0.9, 1]:\n",
    "    with io.StringIO() as buf:\n",
    "        xgb_params = {\n",
    "            \"eta\": eta,  # Learning rate\n",
    "            \"max_depth\": 6,  # Max depth of the tree\n",
    "            \"min_child_weight\": 1,  # It is similar to min_samples_leaf\n",
    "            \"objective\": \"binary:logistic\",  # It is similar to criterion\n",
    "            \"eval_metric\": \"auc\",\n",
    "            \"nthread\": 8,  # Number of cores\n",
    "            \"seed\": 1,\n",
    "            \"verbosity\": 1,\n",
    "        }\n",
    "        sys.stdout = buf  # Redirect standard output to the buffer\n",
    "        model = xgb.train(\n",
    "            xgb_params, dtrain, evals=watchlist, verbose_eval=5, num_boost_round=200\n",
    "        )\n",
    "        sys.stdout = sys.__stdout__  # Restore standard output\n",
    "        output = buf.getvalue()  # Get the captured output from the buffer\n",
    "        scores[\"eta=%s\" % eta] = parse_xgb_output(output)"
   ]
  },
  {
   "cell_type": "code",
   "execution_count": 188,
   "metadata": {},
   "outputs": [],
   "source": [
    "selected_scores = {\n",
    "    key: value\n",
    "    for key, value in scores.items()\n",
    "    if key in [\"eta=0.01\", \"eta=0.05\", \"eta=0.1\", \"eta=0.3\", \"eta=1\"]\n",
    "}"
   ]
  },
  {
   "cell_type": "code",
   "execution_count": 189,
   "metadata": {},
   "outputs": [
    {
     "data": {
      "text/plain": [
       "<matplotlib.legend.Legend at 0x1b5c80e4880>"
      ]
     },
     "execution_count": 189,
     "metadata": {},
     "output_type": "execute_result"
    },
    {
     "data": {
      "image/png": "[encoded data removed]",
      "text/plain": [
       "<Figure size 640x480 with 1 Axes>"
      ]
     },
     "metadata": {},
     "output_type": "display_data"
    }
   ],
   "source": [
    "for key, df_score in selected_scores.items():\n",
    "    plt.plot(df_score.num_iteration, df_score.val_auc, label=key)\n",
    "plt.legend()"
   ]
  },
  {
   "cell_type": "markdown",
   "metadata": {},
   "source": [
    "### Tunning max_depth"
   ]
  },
  {
   "cell_type": "code",
   "execution_count": 190,
   "metadata": {},
   "outputs": [],
   "source": [
    "scores = {}\n",
    "for max_depth in [3, 4, 5, 6, 7, 10]:\n",
    "    with io.StringIO() as buf:\n",
    "        xgb_params = {\n",
    "            \"eta\": 0.1,  # Learning rate\n",
    "            \"max_depth\": max_depth,  # Max depth of the tree\n",
    "            \"min_child_weight\": 1,  # It is similar to min_samples_leaf\n",
    "            \"objective\": \"binary:logistic\",  # It is similar to criterion\n",
    "            \"eval_metric\": \"auc\",\n",
    "            \"nthread\": 8,  # Number of cores\n",
    "            \"seed\": 1,\n",
    "            \"verbosity\": 1,\n",
    "        }\n",
    "        sys.stdout = buf  # Redirect standard output to the buffer\n",
    "        model = xgb.train(\n",
    "            xgb_params, dtrain, evals=watchlist, verbose_eval=5, num_boost_round=200\n",
    "        )\n",
    "        sys.stdout = sys.__stdout__  # Restore standard output\n",
    "        output = buf.getvalue()  # Get the captured output from the buffer\n",
    "        scores[\"max_depth=%s\" % max_depth] = parse_xgb_output(output)"
   ]
  },
  {
   "cell_type": "code",
   "execution_count": 191,
   "metadata": {},
   "outputs": [],
   "source": [
    "selected_scores = {\n",
    "    key: value\n",
    "    for key, value in scores.items()\n",
    "    if key in [\"max_depth=3\", \"max_depth=4\", \"max_depth=6\", \"max_depth=10\"]\n",
    "}"
   ]
  },
  {
   "cell_type": "code",
   "execution_count": 192,
   "metadata": {},
   "outputs": [
    {
     "data": {
      "text/plain": [
       "<matplotlib.legend.Legend at 0x1b5c82b1520>"
      ]
     },
     "execution_count": 192,
     "metadata": {},
     "output_type": "execute_result"
    },
    {
     "data": {
      "image/png": "[encoded data removed]",
      "text/plain": [
       "<Figure size 640x480 with 1 Axes>"
      ]
     },
     "metadata": {},
     "output_type": "display_data"
    }
   ],
   "source": [
    "for key, df_score in selected_scores.items():\n",
    "    plt.plot(df_score.num_iteration, df_score.val_auc, label=key)\n",
    "plt.legend()"
   ]
  },
  {
   "cell_type": "markdown",
   "metadata": {},
   "source": [
    "### Tunning min_child_weight"
   ]
  },
  {
   "cell_type": "code",
   "execution_count": 195,
   "metadata": {},
   "outputs": [],
   "source": [
    "scores = {}\n",
    "for min_child_weight in [1, 10, 30]:\n",
    "    with io.StringIO() as buf:\n",
    "        xgb_params = {\n",
    "            \"eta\": 0.1,  # Learning rate\n",
    "            \"max_depth\": 3,  # Max depth of the tree\n",
    "            \"min_child_weight\": min_child_weight,  # It is similar to min_samples_leaf\n",
    "            \"objective\": \"binary:logistic\",  # It is similar to criterion\n",
    "            \"eval_metric\": \"auc\",\n",
    "            \"nthread\": 8,  # Number of cores\n",
    "            \"seed\": 1,\n",
    "            \"verbosity\": 1,\n",
    "        }\n",
    "        sys.stdout = buf  # Redirect standard output to the buffer\n",
    "        model = xgb.train(\n",
    "            xgb_params, dtrain, evals=watchlist, verbose_eval=5, num_boost_round=200\n",
    "        )\n",
    "        sys.stdout = sys.__stdout__  # Restore standard output\n",
    "        output = buf.getvalue()  # Get the captured output from the buffer\n",
    "        scores[\"min_child_weight=%s\" % min_child_weight] = parse_xgb_output(output)"
   ]
  },
  {
   "cell_type": "code",
   "execution_count": 196,
   "metadata": {},
   "outputs": [
    {
     "data": {
      "text/plain": [
       "<matplotlib.legend.Legend at 0x1b5c8259e50>"
      ]
     },
     "execution_count": 196,
     "metadata": {},
     "output_type": "execute_result"
    },
    {
     "data": {
      "image/png": "[encoded data removed]",
      "text/plain": [
       "<Figure size 640x480 with 1 Axes>"
      ]
     },
     "metadata": {},
     "output_type": "display_data"
    }
   ],
   "source": [
    "for key, df_score in scores.items():\n",
    "    plt.plot(df_score.num_iteration, df_score.val_auc, label=key)\n",
    "plt.legend()"
   ]
  },
  {
   "cell_type": "markdown",
   "metadata": {},
   "source": [
    "### Final XGBoost model"
   ]
  },
  {
   "cell_type": "code",
   "execution_count": null,
   "metadata": {},
   "outputs": [],
   "source": [
    "xgb_params = {\n",
    "    \"eta\": 0.1,  # Learning rate\n",
    "    \"max_depth\": 3,  # Max depth of the tree\n",
    "    \"min_child_weight\": 30,  # It is similar to min_samples_leaf\n",
    "    \"objective\": \"binary:logistic\",  # It is similar to criterion\n",
    "    \"eval_metric\": \"auc\",\n",
    "    \"nthread\": 8,  # Number of cores\n",
    "    \"seed\": 1,\n",
    "    \"verbosity\": 1,\n",
    "}\n",
    "sys.stdout = buf  # Redirect standard output to the buffer\n",
    "model = xgb.train(\n",
    "    xgb_params, dtrain, evals=watchlist, verbose_eval=5, num_boost_round=175\n",
    ")\n",
    "sys.stdout = sys.__stdout__  # Restore standard output\n",
    "output = buf.getvalue()  # Get the captured output from the buffer\n",
    "scores[\"min_child_weight=%s\" % min_child_weight] = parse_xgb_output(output)"
   ]
  },
  {
   "cell_type": "markdown",
   "metadata": {},
   "source": [
    "## Selecting the final model\n",
    "\n",
    "- Choosing between xgboost, random forest and decision tree\n",
    "- Training the final model\n",
    "- Saving the model"
   ]
  },
  {
   "cell_type": "code",
   "execution_count": 198,
   "metadata": {},
   "outputs": [
    {
     "data": {
      "text/plain": [
       "0.7854738320699426"
      ]
     },
     "execution_count": 198,
     "metadata": {},
     "output_type": "execute_result"
    }
   ],
   "source": [
    "# Decision Tree model\n",
    "dt = DecisionTreeClassifier(max_depth=6, min_samples_leaf=15)\n",
    "dt.fit(X_train, y_train)\n",
    "y_pred = dt.predict_proba(X_val)[:, 1]\n",
    "roc_auc_score(y_val, y_pred)"
   ]
  },
  {
   "cell_type": "code",
   "execution_count": 199,
   "metadata": {},
   "outputs": [
    {
     "data": {
      "text/plain": [
       "0.8246258264512848"
      ]
     },
     "execution_count": 199,
     "metadata": {},
     "output_type": "execute_result"
    }
   ],
   "source": [
    "# Random forest model\n",
    "rf = RandomForestClassifier(\n",
    "    max_depth=10,\n",
    "    n_estimators=200,\n",
    "    min_samples_leaf=3,\n",
    "    random_state=1,\n",
    ")\n",
    "rf.fit(X_train, y_train)\n",
    "y_pred = rf.predict_proba(X_val)[:, 1]\n",
    "roc_auc_score(y_val, y_pred)"
   ]
  },
  {
   "cell_type": "code",
   "execution_count": 201,
   "metadata": {},
   "outputs": [
    {
     "data": {
      "text/plain": [
       "0.836632074786273"
      ]
     },
     "execution_count": 201,
     "metadata": {},
     "output_type": "execute_result"
    }
   ],
   "source": [
    "# XGBoost model\n",
    "xgb_params = {\n",
    "    \"eta\": 0.1,  # Learning rate\n",
    "    \"max_depth\": 3,  # Max depth of the tree\n",
    "    \"min_child_weight\": 30,  # It is similar to min_samples_leaf\n",
    "    \"objective\": \"binary:logistic\",  # It is similar to criterion\n",
    "    \"eval_metric\": \"auc\",\n",
    "    \"nthread\": 8,  # Number of cores\n",
    "    \"seed\": 1,\n",
    "    \"verbosity\": 1,\n",
    "}\n",
    "model = xgb.train(xgb_params, dtrain, num_boost_round=175)\n",
    "y_pred = model.predict(dval)\n",
    "roc_auc_score(y_val, y_pred)"
   ]
  },
  {
   "cell_type": "markdown",
   "metadata": {},
   "source": [
    "## Training model with full training dataset"
   ]
  },
  {
   "cell_type": "code",
   "execution_count": null,
   "metadata": {},
   "outputs": [],
   "source": [
    "# Data preparation\n",
    "df_full_train = df_full_train.reset_index(drop=True)\n",
    "y_full_train = (df_full_train.status == \"default\").astype(\"int\").values\n",
    "del df_full_train[\"status\"]\n",
    "dicts_full_train = df_full_train.fillna(0).to_dict(orient=\"records\")\n",
    "dv = DictVectorizer(sparse=False)\n",
    "X_full_train = dv.fit_transform(dicts_full_train)\n",
    "dicts_test = df_test.fillna(0).to_dict(orient=\"records\")\n",
    "X_test = dv.transform(dicts_test)"
   ]
  },
  {
   "cell_type": "code",
   "execution_count": 205,
   "metadata": {},
   "outputs": [
    {
     "data": {
      "text/plain": [
       "0.8276171741361614"
      ]
     },
     "execution_count": 205,
     "metadata": {},
     "output_type": "execute_result"
    }
   ],
   "source": [
    "# Preparing matrix for XGBoost\n",
    "dfulltrain = xgb.DMatrix(X_train, label=y_train, feature_names=dv.feature_names_)\n",
    "dtest = xgb.DMatrix(X_test, feature_names=dv.feature_names_)\n",
    "\n",
    "# Model training\n",
    "xgb_params = {\n",
    "    \"eta\": 0.1,  # Learning rate\n",
    "    \"max_depth\": 3,  # Max depth of the tree\n",
    "    \"min_child_weight\": 30,  # It is similar to min_samples_leaf\n",
    "    \"objective\": \"binary:logistic\",  # It is similar to criterion\n",
    "    \"eval_metric\": \"auc\",\n",
    "    \"nthread\": 8,  # Number of cores\n",
    "    \"seed\": 1,\n",
    "    \"verbosity\": 1,\n",
    "}\n",
    "\n",
    "model = xgb.train(xgb_params, dfulltrain, num_boost_round=175)\n",
    "y_pred = model.predict(dtest)\n",
    "roc_auc_score(y_test, y_pred)"
   ]
  },
  {
   "cell_type": "markdown",
   "metadata": {},
   "source": [
    "## Summary\n",
    "\n",
    "- Decision trees learn if-then-else rules from data. They are easy to interpret and to visualize. They tend to easily overfit the training data if they are not regularized.\n",
    "- Finding the best split: the algorithm looks for the best split for each feature. It then selects the feature and the split that produce the purest subsets (weighted by their size). The metrics used to measure impurity are entropy and the Gini index for classification, and the MSE for regression.\n",
    "- Stopping criteria: the algorithm stops when it reaches the maximum depth (defined by the max_depth hyperparameter), or when it cannot find a split that will reduce impurity.\n",
    "- Random forest is a way of training multiple decision trees on different subsets of the training data, and then averaging their predictions. It generally produces much better predictions than a single decision tree and reduces overfitting.\n",
    "- Gradient boosting is a way of training multiple decision trees sequentially, with each tree learning from the errors of the previous trees. It generally produces much better predictions than a single decision tree and reduces overfitting. XGBoost is an optimized implementation of gradient boosting.\n",
    "\n",
    "## Explore more\n",
    "\n",
    "- For this dataset, we didn't do EDA or feature engineering. You can do it to get more insights into the problem.\n",
    "- For random forest, there are more parameters that we can tune. Check max_features and bootstrap.\n",
    "- There is a variation of random forest called \"extremely randomized trees\" or \"extra trees\". Instead of selecting the best split among all possible thresholds, it selects a few thresholds at random and then selects the best split among them. This extra randomness acts as a form of regularization and often produces better predictions. You can try it by setting the bootstrap hyperparameter to False, and by using the ExtraTreesClassifier class instead of the RandomForestClassifier class.\n",
    "- XGBoost can deal with missing values. You can try to impute the missing values in the dataset and see if it improves the performance of the model.\n",
    "- Experiment with other XGBoost parameters such as subsample, colsample_bytree, lambda, and alpha.\n",
    "- When selecting the best split, decision trees find the most useful features. This information can be used for understanding which features are more important than others.\n",
    "- Trees can also be used for solving regression problems: check DecisionTreeRegressor, RandomForestRegressor, and the objective=\"reg:squarederror\" parameter for XGBoost."
   ]
  }
 ],
 "metadata": {
  "kernelspec": {
   "display_name": "ml-zoomcamp",
   "language": "python",
   "name": "python3"
  },
  "language_info": {
   "codemirror_mode": {
    "name": "ipython",
    "version": 3
   },
   "file_extension": ".py",
   "mimetype": "text/x-python",
   "name": "python",
   "nbconvert_exporter": "python",
   "pygments_lexer": "ipython3",
   "version": "3.9.18"
  }
 },
 "nbformat": 4,
 "nbformat_minor": 2
}
